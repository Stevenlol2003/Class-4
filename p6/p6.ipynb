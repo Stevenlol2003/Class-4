{
 "cells": [
  {
   "cell_type": "code",
   "execution_count": 1,
   "id": "cec7bf82",
   "metadata": {
    "cell_type": "code",
    "deletable": false,
    "editable": false
   },
   "outputs": [],
   "source": [
    "# import and initialize otter\n",
    "import otter\n",
    "grader = otter.Notebook(\"p6.ipynb\")"
   ]
  },
  {
   "cell_type": "code",
   "execution_count": 2,
   "id": "66c622bb",
   "metadata": {
    "deletable": false,
    "editable": false
   },
   "outputs": [],
   "source": [
    "import p6_test"
   ]
  },
  {
   "cell_type": "markdown",
   "id": "c3ab6456",
   "metadata": {
    "deletable": false,
    "editable": false
   },
   "source": [
    "# Project 6: Airbnb"
   ]
  },
  {
   "cell_type": "markdown",
   "id": "350b4db3",
   "metadata": {
    "deletable": false,
    "editable": false
   },
   "source": [
    "## Learning Objectives:\n",
    "\n",
    "In this project, you will demonstrate how to:\n",
    "\n",
    "* access and utilize data in CSV files,\n",
    "* process real world datasets,\n",
    "* use string methods and sorting function / method to order data.\n",
    "\n",
    "Please go through [Lab-P6](https://git.doit.wisc.edu/cdis/cs/courses/cs220/cs220-s23-projects/-/tree/main/lab-p6) before working on this project. The lab introduces some useful techniques related to this project."
   ]
  },
  {
   "cell_type": "markdown",
   "id": "8480d85c",
   "metadata": {
    "deletable": false,
    "editable": false
   },
   "source": [
    "## Testing your code:\n",
    "\n",
    "Along with this notebook, you must have downloaded the file `p6_test.py`. If you are curious about how we test your code, you can explore this file, and specifically the value of the variable `expected_json`, to understand the expected answers to the questions."
   ]
  },
  {
   "cell_type": "markdown",
   "id": "3e3a06d9",
   "metadata": {
    "deletable": false,
    "editable": false
   },
   "source": [
    "## Project Description:\n",
    "\n",
    "Data Science can help us understand user behavior on online platform services. This project is about the rooms listed on Airbnb. Since 2008, guests and hosts have used Airbnb to expand on traveling possibilities and present a more unique, personalized way of experiencing the world. `airbnb.csv` has data of nearly 50,000 listings on Airbnb from New York City, NY from the year 2019. This file includes a lot of information about the hosts, geographical availability of the listings, and other necessary metrics to make predictions and draw conclusions. You will be using various string manipulation methods that come with Python as well as creating some of your own functions to solve the problems posed. Happy coding!"
   ]
  },
  {
   "cell_type": "markdown",
   "id": "232e134c",
   "metadata": {
    "deletable": false,
    "editable": false
   },
   "source": [
    "## Dataset:\n",
    "\n",
    "A small portion of the dataset `airbnb.csv` you will be working with for this project is reproduced here:"
   ]
  },
  {
   "cell_type": "markdown",
   "id": "36b9b9a2",
   "metadata": {
    "deletable": false,
    "editable": false
   },
   "source": [
    "room_id|name|host_id|host_name|neighborhood_group|neighborhood|latitude|longitude|room_type|price|minimum_nights|number_of_reviews|last_review|reviews_per_month|calculated_host_listings_count|availability_365\n",
    "------|------|------|------|------|------|------|------|------|------|------|------|------|------|------|------|\n",
    "2539|Clean & quiet apt home by the park|2787|John|Brooklyn|Kensington|40.64749000000001|-73.97237|Private room|149|1|9|2018-10-19|0.21|6|365\n",
    "2595|Skylit Midtown Castle|2845|Jennifer|Manhattan|Midtown|40.75362|-73.98376999999998|Entire home/apt|225|1|45|2019-05-21|0.38|2|355\n",
    "3647|THE VILLAGE OF HARLEM....NEW YORK !|4632|Elisabeth|Manhattan|Harlem|40.80902|-73.9419|Private room|150|3|0|||1|365\n",
    "3831|Cozy Entire Floor of Brownstone|4869|LisaRoxanne|Brooklyn|Clinton Hill|40.68514|-73.95976|Entire home/apt|89|1|270|2019-07-05|4.64|1|194\n",
    "5022|Entire Apt: Spacious Studio/Loft by central park|7192|Laura|Manhattan|East Harlem|40.79851|-73.94399|Entire home/apt|80|10|9|2018-11-19|0.1|1|0\n",
    "5099|Large Cozy 1 BR Apartment In Midtown East|7322|Chris|Manhattan|Murray Hill|40.74767|-73.975|Entire home/apt|200|3|74|2019-06-22|0.59|1|129"
   ]
  },
  {
   "cell_type": "markdown",
   "id": "09a9e49a",
   "metadata": {
    "deletable": false,
    "editable": false
   },
   "source": [
    "You can find more details on the dataset in [Lab-P6](https://git.doit.wisc.edu/cdis/cs/courses/cs220/cs220-s23-projects/-/tree/main/lab-p6)."
   ]
  },
  {
   "cell_type": "markdown",
   "id": "94a8f0e3",
   "metadata": {
    "deletable": false,
    "editable": false
   },
   "source": [
    "## Questions and Functions:\n",
    "\n",
    "Let us start by importing all the modules we will need for this project."
   ]
  },
  {
   "cell_type": "code",
   "execution_count": 3,
   "id": "96a3f4b1",
   "metadata": {
    "tags": []
   },
   "outputs": [],
   "source": [
    "# it is considered a good coding practice to place all import statements at the top of the notebook\n",
    "# please place all your import statements in this cell if you need to import any more modules for this project\n",
    "import csv"
   ]
  },
  {
   "cell_type": "markdown",
   "id": "85ada17e",
   "metadata": {
    "deletable": false,
    "editable": false
   },
   "source": [
    "#### Now, copy and paste the `process_csv` and `cell` functions from your Lab-P6 notebook to the cell below.\n",
    "\n",
    "You are expected to call the `process_csv` function correctly, and read the data on `airbnb.csv`. After reading the file, define the `csv_header`, and `csv_rows` variables as in Lab-P6, and define the `cell` function.\n",
    "\n",
    "**Important:** You **must** only use the `cell` function to extract data from the dataset. If you extract any data without explicitly using this function, you will **lose points** during manual review. It is recommended but **optional** that you use the `cell_v2` function defined in Lab-P6. However, you **must** rename the function to `cell` in this notebook. "
   ]
  },
  {
   "cell_type": "code",
   "execution_count": 4,
   "id": "3d5e2ddf",
   "metadata": {
    "tags": []
   },
   "outputs": [],
   "source": [
    "def process_csv(filename):\n",
    "    example_file = open(filename, encoding=\"utf-8\")\n",
    "    example_reader = csv.reader(example_file)\n",
    "    example_data = list(example_reader)\n",
    "    example_file.close()\n",
    "    return example_data\n",
    "\n",
    "csv_data = process_csv(\"airbnb.csv\")\n",
    "csv_header = csv_data[0]\n",
    "csv_rows = csv_data[1:]\n",
    "\n",
    "def cell(row_idx, col_name):\n",
    "    col_idx = csv_header.index(col_name)\n",
    "    val = csv_rows[row_idx][col_idx]\n",
    "    if val == \"\":\n",
    "        return None\n",
    "    elif col_name == 'price':\n",
    "        val = int(val)\n",
    "    elif col_name == 'reviews_per_month':\n",
    "        val = float(val)\n",
    "    return val"
   ]
  },
  {
   "cell_type": "markdown",
   "id": "c7d05d92",
   "metadata": {
    "deletable": false,
    "editable": false
   },
   "source": [
    "**Question 1:** What **unique** neighborhood groups (`neighborhood_group`) are included in the dataset?\n",
    "\n",
    "Your output **must** be a *list* which stores all the **unique** neighborhood groups (i.e., without any duplicates). The order **does not** matter."
   ]
  },
  {
   "cell_type": "code",
   "execution_count": 5,
   "id": "1c13a292",
   "metadata": {
    "tags": []
   },
   "outputs": [
    {
     "data": {
      "text/plain": [
       "['Brooklyn', 'Manhattan', 'Queens', 'Staten Island', 'Bronx']"
      ]
     },
     "execution_count": 5,
     "metadata": {},
     "output_type": "execute_result"
    }
   ],
   "source": [
    "# compute and store the answer in the variable 'neighborhood_groups', then display it\n",
    "neighborhood_groups = []\n",
    "\n",
    "for index in range(len(csv_rows)):\n",
    "    if cell(index, \"neighborhood_group\") not in neighborhood_groups:\n",
    "        neighborhood_groups.append(cell(index, \"neighborhood_group\"))  \n",
    "        \n",
    "neighborhood_groups"
   ]
  },
  {
   "cell_type": "code",
   "execution_count": 6,
   "id": "6caaea45",
   "metadata": {
    "deletable": false,
    "editable": false
   },
   "outputs": [
    {
     "data": {
      "text/html": [
       "<p><strong><pre style='display: inline;'>q1</pre></strong> passed! 🎉</p>"
      ],
      "text/plain": [
       "q1 results: All test cases passed!"
      ]
     },
     "execution_count": 6,
     "metadata": {},
     "output_type": "execute_result"
    }
   ],
   "source": [
    "grader.check(\"q1\")"
   ]
  },
  {
   "cell_type": "markdown",
   "id": "7a12711e",
   "metadata": {
    "deletable": false,
    "editable": false
   },
   "source": [
    "**Question 2:** What is the **average** `price` of all rooms in the dataset?"
   ]
  },
  {
   "cell_type": "code",
   "execution_count": 7,
   "id": "583a7631",
   "metadata": {
    "tags": []
   },
   "outputs": [
    {
     "data": {
      "text/plain": [
       "152.7206871868289"
      ]
     },
     "execution_count": 7,
     "metadata": {},
     "output_type": "execute_result"
    }
   ],
   "source": [
    "# compute and store the answer in the variable 'avg_price', then display it\n",
    "total_price = 0\n",
    "count = 0\n",
    "\n",
    "for index in range(len(csv_rows)):\n",
    "    total_price += cell(index, \"price\")\n",
    "    count += 1\n",
    "    \n",
    "avg_price = total_price / count            \n",
    "avg_price"
   ]
  },
  {
   "cell_type": "code",
   "execution_count": 8,
   "id": "2e2a9f90",
   "metadata": {
    "deletable": false,
    "editable": false
   },
   "outputs": [
    {
     "data": {
      "text/html": [
       "<p><strong><pre style='display: inline;'>q2</pre></strong> passed! 💯</p>"
      ],
      "text/plain": [
       "q2 results: All test cases passed!"
      ]
     },
     "execution_count": 8,
     "metadata": {},
     "output_type": "execute_result"
    }
   ],
   "source": [
    "grader.check(\"q2\")"
   ]
  },
  {
   "cell_type": "markdown",
   "id": "a9e14251",
   "metadata": {
    "deletable": false,
    "editable": false
   },
   "source": [
    "**Question 3:** How many rooms are in the `neighborhood` of *SoHo*?"
   ]
  },
  {
   "cell_type": "code",
   "execution_count": 9,
   "id": "4ac30f8f",
   "metadata": {
    "tags": []
   },
   "outputs": [
    {
     "data": {
      "text/plain": [
       "358"
      ]
     },
     "execution_count": 9,
     "metadata": {},
     "output_type": "execute_result"
    }
   ],
   "source": [
    "# compute and store the answer in the variable 'count_soho', then display it\n",
    "count_soho = 0\n",
    "\n",
    "for index in range(len(csv_rows)):\n",
    "    if cell(index, \"neighborhood\") == \"SoHo\":\n",
    "        count_soho += 1\n",
    "\n",
    "count_soho"
   ]
  },
  {
   "cell_type": "code",
   "execution_count": 10,
   "id": "a2980991",
   "metadata": {
    "deletable": false,
    "editable": false
   },
   "outputs": [
    {
     "data": {
      "text/html": [
       "<p><strong><pre style='display: inline;'>q3</pre></strong> passed! 🍀</p>"
      ],
      "text/plain": [
       "q3 results: All test cases passed!"
      ]
     },
     "execution_count": 10,
     "metadata": {},
     "output_type": "execute_result"
    }
   ],
   "source": [
    "grader.check(\"q3\")"
   ]
  },
  {
   "cell_type": "markdown",
   "id": "937e80b5",
   "metadata": {
    "deletable": false,
    "editable": false
   },
   "source": [
    "### Function 1: `find_room_names(phrase)`\n",
    "\n",
    "We require you to complete the below function and use it to answer question 4 to 6  \n",
    "(this is a **requirement**, and you will **lose points** if you do not implement this function). You can review string methods from the [lecture on Feb 24](https://git.doit.wisc.edu/cdis/cs/courses/cs220/cs220-lecture-material/-/blob/main/s23/Common_to_all_lectures/13_Strings/13_Strings.pdf)"
   ]
  },
  {
   "cell_type": "code",
   "execution_count": 11,
   "id": "722a84ab",
   "metadata": {
    "tags": []
   },
   "outputs": [],
   "source": [
    "def find_room_names(phrase):\n",
    "    \"\"\"\n",
    "    find_room_names(phrase) returns a list of all the room names that CONTAINS the \n",
    "    substring (case insensitive match) `phrase`.\n",
    "    \"\"\"\n",
    "    room_list = []\n",
    "    for index in range(len(csv_rows)):\n",
    "        if (cell(index, \"name\") == None):\n",
    "            continue\n",
    "        else:\n",
    "            if cell(index, \"name\").lower().find(phrase) != -1:\n",
    "                room_list.append(cell(index, \"name\"))\n",
    "                \n",
    "    return room_list\n",
    "    # TODO: create an empty list\n",
    "    # TODO: ignore rooms that do not have data entry for name, as indicated by a value of None\n",
    "    # TODO: check if the room name string contains phrase (case insensitive match)\n",
    "    # TODO: if so, add these room names to the list (the room names should be as in the dataset)\n",
    "    # TODO: return your list of room names"
   ]
  },
  {
   "cell_type": "markdown",
   "id": "6d12cb62",
   "metadata": {
    "deletable": false,
    "editable": false
   },
   "source": [
    "**Question 4:** Find all room names that contain the string `\"free wifi\"`.\n",
    "    \n",
    "Your output **must** be a *list*. The order **does not** matter. You **must** call the `find_room_names` function to answer this question."
   ]
  },
  {
   "cell_type": "code",
   "execution_count": 12,
   "id": "8ade7385",
   "metadata": {
    "tags": []
   },
   "outputs": [
    {
     "data": {
      "text/plain": [
       "['One Bedroom Mini studio - Free WIFI',\n",
       " 'Great Chelsea Location, Couch/2nd bed, Free WiFi',\n",
       " 'Private 2 BR APT: Free WIFI & JACUZZI',\n",
       " 'PRIVATE 1BR APT: Free WIFI & DIRECT TV',\n",
       " 'Landmark 1 Bedroom has 2 beds, Free WiFi',\n",
       " 'Modern and Safe Place,Free Wifi',\n",
       " 'Newly renovated 2 bedroom with FREE WIFI',\n",
       " '*NO GUEST SERVICE FEE* Beekman Tower Studio with Queen Bed & Free Wifi',\n",
       " '*NO GUEST SERVICE FEE* Beekman Tower One Bedroom Suite with Queen Bed & Free Wifi',\n",
       " 'Sunny Hudson Yards/ Chelsea Studio, Free WiFi',\n",
       " 'Private Bedroom in MANHATTAN (Free Wifi)',\n",
       " 'J- LUXURY SHARED ROOM, AC FREE WIFI+CABLE GARDEN',\n",
       " 'J- *LUXURY SHARED ROOM AC FREE WIFI CABLE, GARDEN',\n",
       " 'J- **LUXURY SHARED ROOM 2PPL FREE WIFI+CABLE+AC',\n",
       " '5min walk to L train - Free WiFi & Cleaning',\n",
       " 'J- HOTEL STYLE SHARE ROOM FOR 2PPL FREE WIFI CABLE',\n",
       " 'Explore NYC From Our Private Studio w/Free Wifi',\n",
       " 'Staten Island - Free Wifi, Parking Space, Near NYC',\n",
       " 'BIG BEDROOM CLOSE TO LA GUARDIA AIRPORT FREE WIFI',\n",
       " 'J- COZY ROOM FOR 1 FEMALE FREE WIFI & COFFEE']"
      ]
     },
     "execution_count": 12,
     "metadata": {},
     "output_type": "execute_result"
    }
   ],
   "source": [
    "# compute and store the answer in the variable 'rooms_free_wifi', then display it\n",
    "rooms_free_wifi = find_room_names(\"free wifi\")\n",
    "\n",
    "rooms_free_wifi"
   ]
  },
  {
   "cell_type": "code",
   "execution_count": 13,
   "id": "91fea5bb",
   "metadata": {
    "deletable": false,
    "editable": false
   },
   "outputs": [
    {
     "data": {
      "text/html": [
       "<p><strong><pre style='display: inline;'>q4</pre></strong> passed! 🙌</p>"
      ],
      "text/plain": [
       "q4 results: All test cases passed!"
      ]
     },
     "execution_count": 13,
     "metadata": {},
     "output_type": "execute_result"
    }
   ],
   "source": [
    "grader.check(\"q4\")"
   ]
  },
  {
   "cell_type": "markdown",
   "id": "8b015854",
   "metadata": {
    "deletable": false,
    "editable": false
   },
   "source": [
    "**Question 5:** Find all room names that contain **either** `\"cinema\"` **or** `\"film\"`.\n",
    "\n",
    "Your output **must** be a *list*. The order **does not** matter, but if a room's `name` contains **both** `\"cinema\"` and `\"film\"`, then the room must be included **only once** in your list. You **must** call the `find_room_names` function to answer this question."
   ]
  },
  {
   "cell_type": "code",
   "execution_count": 14,
   "id": "bb37417f",
   "metadata": {
    "tags": []
   },
   "outputs": [
    {
     "data": {
      "text/plain": [
       "['HUGE LUX 2FLOOR 2 BDRMSOHO LOFTw/HOME CINEMA',\n",
       " 'Cinema Studio on Duplex Apt.',\n",
       " 'Cool apartment in Brooklyn with free cinema & gym',\n",
       " 'Cinema + gym included with room',\n",
       " 'TV-PHOTO-FILM-CINEMA-ART GALLERY-MUSIC STUDIO-LOFT',\n",
       " 'Premium Chelsea 1BR w/ Gym, W/D, Doorman, Sundeck, Cinema, by Blueground',\n",
       " 'Stunning Chelsea 1BR w/ Gym, W/D, Doorman, Sundeck, Cinema, by Blueground',\n",
       " 'Sunny private room featured in film',\n",
       " \"Downtown Filmmaker's Loft by WTC\",\n",
       " 'Film Location',\n",
       " 'Brooklyn townhouse for filming',\n",
       " 'WoodyAllen FilmSet-Like Digs (Apt)',\n",
       " 'WoodyAllen FilmSet-Like Digs (Room)',\n",
       " 'Film / photography location in unique apartment',\n",
       " 'The Otheroom Bar/Event/Filming Space -read details',\n",
       " 'Victorian Film location',\n",
       " 'Modern Townhouse for Photo, Film &  Daytime Events',\n",
       " 'Shoot. Film. Sleep. Unique Loft Space in Brooklyn.',\n",
       " 'Clean music/film themed bedroom',\n",
       " 'Music Recording Mixing Film Photography Art']"
      ]
     },
     "execution_count": 14,
     "metadata": {},
     "output_type": "execute_result"
    }
   ],
   "source": [
    "# compute and store the answer in the variable 'rooms_contain_cinema_film', then display it\n",
    "rooms_contain_cinema = find_room_names(\"cinema\")\n",
    "rooms_contain_film = find_room_names(\"film\")\n",
    "\n",
    "cinema_and_film = rooms_contain_cinema + rooms_contain_film\n",
    "\n",
    "rooms_contain_cinema_film = []\n",
    "for name in cinema_and_film:\n",
    "    if name not in rooms_contain_cinema_film:\n",
    "        rooms_contain_cinema_film.append(name)\n",
    "\n",
    "rooms_contain_cinema_film"
   ]
  },
  {
   "cell_type": "code",
   "execution_count": 15,
   "id": "00f66b87",
   "metadata": {
    "deletable": false,
    "editable": false
   },
   "outputs": [
    {
     "data": {
      "text/html": [
       "<p><strong><pre style='display: inline;'>q5</pre></strong> passed! 🌈</p>"
      ],
      "text/plain": [
       "q5 results: All test cases passed!"
      ]
     },
     "execution_count": 15,
     "metadata": {},
     "output_type": "execute_result"
    }
   ],
   "source": [
    "grader.check(\"q5\")"
   ]
  },
  {
   "cell_type": "markdown",
   "id": "3e334c28",
   "metadata": {
    "deletable": false,
    "editable": false
   },
   "source": [
    "**Question 6:** Find the **longest** room `name` that contains the word `\"fun\"`.\n",
    "\n",
    "There is a **unique** such room with the longest `name`, so you **do not** have to worry about breaking ties. You **must** call the `find_room_names` function to answer this question. You **must** initialize the variable `funnest_room` to be `None`."
   ]
  },
  {
   "cell_type": "code",
   "execution_count": 16,
   "id": "98bb93e2",
   "metadata": {
    "tags": []
   },
   "outputs": [
    {
     "data": {
      "text/plain": [
       "'Homey 1BR in Fun, Central West Village w/ Doorman by Blueground'"
      ]
     },
     "execution_count": 16,
     "metadata": {},
     "output_type": "execute_result"
    }
   ],
   "source": [
    "# compute and store the answer in the variable 'funnest_room', then display it\n",
    "funnest_room = None\n",
    "possible_rooms = find_room_names(\"fun\")\n",
    "for i in range(len(possible_rooms)):\n",
    "    if funnest_room == None:\n",
    "        funnest_room = possible_rooms[i]\n",
    "    else:\n",
    "        if len(possible_rooms[i]) > len(funnest_room):\n",
    "            funnest_room = possible_rooms[i]\n",
    "\n",
    "funnest_room"
   ]
  },
  {
   "cell_type": "code",
   "execution_count": 17,
   "id": "e3137e78",
   "metadata": {
    "deletable": false,
    "editable": false
   },
   "outputs": [
    {
     "data": {
      "text/html": [
       "<p><strong><pre style='display: inline;'>q6</pre></strong> passed! 🍀</p>"
      ],
      "text/plain": [
       "q6 results: All test cases passed!"
      ]
     },
     "execution_count": 17,
     "metadata": {},
     "output_type": "execute_result"
    }
   ],
   "source": [
    "grader.check(\"q6\")"
   ]
  },
  {
   "cell_type": "markdown",
   "id": "98819e95",
   "metadata": {
    "deletable": false,
    "editable": false
   },
   "source": [
    "**Question 7:** Find the names (`name`) of all the rooms which have `price` *0* and have **more than** *90* reviews (`number_of_reviews`).\n",
    "\n",
    "Your output **must** be a *list*. The names **must** be sorted in **ascending (alphabetical) order**."
   ]
  },
  {
   "cell_type": "code",
   "execution_count": 18,
   "id": "5f452682",
   "metadata": {
    "tags": []
   },
   "outputs": [
    {
     "data": {
      "text/plain": [
       "['Contemporary bedroom in brownstone with nice view',\n",
       " 'Cozy yet spacious private brownstone bedroom',\n",
       " 'Spacious comfortable master bedroom with nice view']"
      ]
     },
     "execution_count": 18,
     "metadata": {},
     "output_type": "execute_result"
    }
   ],
   "source": [
    "# compute and store the answer in the variable 'no_cost_rooms', then display it\n",
    "no_cost_rooms = []\n",
    "\n",
    "for index in range(len(csv_rows)):\n",
    "    if cell(index, \"price\") == 0:\n",
    "        if cell(index, \"number_of_reviews\") == None:\n",
    "            continue\n",
    "        else:  \n",
    "            if int(cell(index, \"number_of_reviews\")) > 90:\n",
    "                no_cost_rooms.append(cell(index, \"name\"))\n",
    "\n",
    "no_cost_rooms.sort()\n",
    "no_cost_rooms"
   ]
  },
  {
   "cell_type": "code",
   "execution_count": 19,
   "id": "2946c170",
   "metadata": {
    "deletable": false,
    "editable": false
   },
   "outputs": [
    {
     "data": {
      "text/html": [
       "<p><strong><pre style='display: inline;'>q7</pre></strong> passed! 🎉</p>"
      ],
      "text/plain": [
       "q7 results: All test cases passed!"
      ]
     },
     "execution_count": 19,
     "metadata": {},
     "output_type": "execute_result"
    }
   ],
   "source": [
    "grader.check(\"q7\")"
   ]
  },
  {
   "cell_type": "markdown",
   "id": "d510f8a1",
   "metadata": {
    "deletable": false,
    "editable": false
   },
   "source": [
    "**Question 8:**  What neighborhoods (`neighborhood`) are the rooms that have `price` greater than *9999* located in?\n",
    "\n",
    "Your output **must** be a *list* of **unique** neighborhoods (i.e., without any duplicates). The names **must** be sorted in **descending (reverse-alphabetical) order**."
   ]
  },
  {
   "cell_type": "code",
   "execution_count": 20,
   "id": "8b518213",
   "metadata": {
    "tags": []
   },
   "outputs": [],
   "source": [
    "# compute and store the answer in the variable 'pricey_neighborhoods', then display it\n",
    "pricey_neighborhoods_with_duplicates = []\n",
    "pricey_neighborhoods = []\n",
    "\n",
    "for index in range(len(csv_rows)):\n",
    "    if cell(index, \"price\") > 9999:\n",
    "        pricey_neighborhoods_with_duplicates.append(cell(index, \"neighborhood\"))\n",
    "        \n",
    "for name in pricey_neighborhoods_with_duplicates:\n",
    "    if name not in pricey_neighborhoods:\n",
    "        pricey_neighborhoods.append(name)\n",
    "        \n",
    "pricey_neighborhoods.sort(reverse=True)"
   ]
  },
  {
   "cell_type": "code",
   "execution_count": 21,
   "id": "bdba4596",
   "metadata": {
    "deletable": false,
    "editable": false
   },
   "outputs": [
    {
     "data": {
      "text/html": [
       "<p><strong><pre style='display: inline;'>q8</pre></strong> passed! ✨</p>"
      ],
      "text/plain": [
       "q8 results: All test cases passed!"
      ]
     },
     "execution_count": 21,
     "metadata": {},
     "output_type": "execute_result"
    }
   ],
   "source": [
    "grader.check(\"q8\")"
   ]
  },
  {
   "cell_type": "markdown",
   "id": "2fa18d66",
   "metadata": {
    "deletable": false,
    "editable": false
   },
   "source": [
    "**Question 9:** How many rooms received their `last_review` **in or before** *2015*?\n",
    "\n",
    "You should **ignore** rooms for which the `last_review` data is missing.\n",
    "\n",
    "**Hint:** You can find the date of the last review in the `last_review` column.  \n",
    "You can review the get_year function from [lab-p5](https://git.doit.wisc.edu/cdis/cs/courses/cs220/cs220-s23-projects/-/tree/main/lab-p5)"
   ]
  },
  {
   "cell_type": "code",
   "execution_count": 22,
   "id": "fe337eab",
   "metadata": {
    "tags": []
   },
   "outputs": [
    {
     "data": {
      "text/plain": [
       "1672"
      ]
     },
     "execution_count": 22,
     "metadata": {},
     "output_type": "execute_result"
    }
   ],
   "source": [
    "# compute and store the answer in the variable 'last_review_before_2015', then display it\n",
    "last_review_before_2015 = 0\n",
    "\n",
    "for index in range(len(csv_rows)):\n",
    "    last_review = cell(index, \"last_review\")\n",
    "    if last_review == None:\n",
    "        continue\n",
    "    elif int(last_review[:4]) <= 2015:\n",
    "        last_review_before_2015 += 1\n",
    "\n",
    "last_review_before_2015"
   ]
  },
  {
   "cell_type": "code",
   "execution_count": 23,
   "id": "e4692707",
   "metadata": {
    "deletable": false,
    "editable": false
   },
   "outputs": [
    {
     "data": {
      "text/html": [
       "<p><strong><pre style='display: inline;'>q9</pre></strong> passed! 🍀</p>"
      ],
      "text/plain": [
       "q9 results: All test cases passed!"
      ]
     },
     "execution_count": 23,
     "metadata": {},
     "output_type": "execute_result"
    }
   ],
   "source": [
    "grader.check(\"q9\")"
   ]
  },
  {
   "cell_type": "markdown",
   "id": "6dbff213",
   "metadata": {
    "deletable": false,
    "editable": false
   },
   "source": [
    "### Function 2: `avg_price_per_room_type(room_type, neighborhood)`\n",
    "\n",
    "We require you to complete the below function to answer the next several questions (this is a **requirement**, and you will **lose points** if you do not implement this function)."
   ]
  },
  {
   "cell_type": "code",
   "execution_count": 24,
   "id": "243e812a",
   "metadata": {
    "tags": []
   },
   "outputs": [],
   "source": [
    "def avg_price_per_room_type(room_type, neighborhood):\n",
    "    '''\n",
    "    avg_price_per_room_type(room_type, neighborhood) returns the average price of \n",
    "    rooms of the type `room_type` in the given `neighborhood`; if there are no\n",
    "    rooms of the type `room_type` in the given `neighborhood`, it returns `None`\n",
    "    '''\n",
    "    total_price = 0\n",
    "    count = 0\n",
    "    \n",
    "    for index in range(len(csv_rows)):\n",
    "        if cell(index, \"room_type\") == room_type and cell(index, \"neighborhood\") == neighborhood:\n",
    "            total_price += cell(index, \"price\")\n",
    "            count += 1\n",
    "    \n",
    "    avg_price = total_price / count\n",
    "    return avg_price"
   ]
  },
  {
   "cell_type": "markdown",
   "id": "34620d59",
   "metadata": {
    "deletable": false,
    "editable": false
   },
   "source": [
    "**Question 10:** What is the  **average** `price` of a *Private room* (`room_type`) in the`neighborhood` *Little Neck*?\n",
    "\n",
    "You **must** call the `avg_price_per_room_type` function to answer this question.\n",
    "\n",
    "**Hint:** To help you debug your code in case you run into any bugs, we have reproduced in the cell below, **all** the rows in the dataset from the `neighborhood` *Little Neck*. If you run into bugs with `avg_price_per_room_type`, it is recommended that you go through your code and verify that it does what it is supposed to, for this tiny dataset."
   ]
  },
  {
   "cell_type": "markdown",
   "id": "b4248fc0",
   "metadata": {
    "deletable": false,
    "editable": false
   },
   "source": [
    "room_id|name|host_id|host_name|neighborhood_group|neighborhood|latitude|longitude|room_type|price|minimum_nights|number_of_reviews|last_review|reviews_per_month|calculated_host_listings_count|availability_365\n",
    "------|------|------|------|------|------|------|------|------|------|------|------|------|------|------|------|\n",
    "20227428|Douglaston Apartment Room A|18996093|Leonard|Queens|Little Neck|40.75794000000001|-73.72955999999998|Private room|45|1|12|2019-06-22|0.55|5|133\n",
    "21025083|Douglaston (apt 2) Room one\\n(Largest room)|18996093|Leonard|Queens|Little Neck|40.75777|-73.72949|Private room|50|1|6|2018-12-16|0.31|5|94\n",
    "30325639|Cozy shared studio in a safe neighborhood|21495656|Ramy|Queens|Little Neck|40.76212|-73.71928|Shared room|32|3|1|2018-12-04|0.14|1|88\n",
    "31553066|Near major transportation|41090359|Abi|Queens|Little Neck|40.77122|-73.738|Private room|100|1|0|||1|88\n",
    "35515780|30-min to Manhattan Quiet Big House in Great Neck|31859704|Vincent|Queens|Little Neck|40.77444000000001|-73.73373000000002|Entire home/apt|149|3|0|||1|3"
   ]
  },
  {
   "cell_type": "code",
   "execution_count": 25,
   "id": "b441c819",
   "metadata": {
    "tags": []
   },
   "outputs": [
    {
     "data": {
      "text/plain": [
       "65.0"
      ]
     },
     "execution_count": 25,
     "metadata": {},
     "output_type": "execute_result"
    }
   ],
   "source": [
    "# compute and store the answer in the variable 'pvt_room_little_neck', then display it\n",
    "pvt_room_little_neck = avg_price_per_room_type(\"Private room\", \"Little Neck\")\n",
    "\n",
    "pvt_room_little_neck"
   ]
  },
  {
   "cell_type": "code",
   "execution_count": 26,
   "id": "98922e5e",
   "metadata": {
    "deletable": false,
    "editable": false
   },
   "outputs": [
    {
     "data": {
      "text/html": [
       "<p><strong><pre style='display: inline;'>q10</pre></strong> passed! ✨</p>"
      ],
      "text/plain": [
       "q10 results: All test cases passed!"
      ]
     },
     "execution_count": 26,
     "metadata": {},
     "output_type": "execute_result"
    }
   ],
   "source": [
    "grader.check(\"q10\")"
   ]
  },
  {
   "cell_type": "markdown",
   "id": "2766870f",
   "metadata": {
    "deletable": false,
    "editable": false
   },
   "source": [
    "**Question 11:** On average, how much **more** expensive (`price`) is a *Entire home/apt* (`room_type`) than a *Private room* (`room_type`) in the `neighborhood` *Astoria*?\n",
    "\n",
    "You **must** call the `avg_price_per_room_type` function to answer this question."
   ]
  },
  {
   "cell_type": "code",
   "execution_count": 27,
   "id": "588ee84b",
   "metadata": {
    "tags": []
   },
   "outputs": [
    {
     "data": {
      "text/plain": [
       "46.02133741379495"
      ]
     },
     "execution_count": 27,
     "metadata": {},
     "output_type": "execute_result"
    }
   ],
   "source": [
    "# compute and store the answer in the variable 'home_pvt_room_astoria_diff', then display it\n",
    "home_pvt_room_astoria_diff = avg_price_per_room_type(\"Entire home/apt\", \"Astoria\") - avg_price_per_room_type(\"Private room\", \"Astoria\")\n",
    "\n",
    "home_pvt_room_astoria_diff"
   ]
  },
  {
   "cell_type": "code",
   "execution_count": 28,
   "id": "82cabe88",
   "metadata": {
    "deletable": false,
    "editable": false
   },
   "outputs": [
    {
     "data": {
      "text/html": [
       "<p><strong><pre style='display: inline;'>q11</pre></strong> passed! 🚀</p>"
      ],
      "text/plain": [
       "q11 results: All test cases passed!"
      ]
     },
     "execution_count": 28,
     "metadata": {},
     "output_type": "execute_result"
    }
   ],
   "source": [
    "grader.check(\"q11\")"
   ]
  },
  {
   "cell_type": "markdown",
   "id": "e3836b5a",
   "metadata": {
    "deletable": false,
    "editable": false
   },
   "source": [
    "### Function 3: `find_prices_within(lat_min, lat_max, long_min, long_max)` \n",
    "\n",
    "We require you to complete the below function to answer the next several questions (this is a **requirement**, and you will **lose points** if you do not implement this function)."
   ]
  },
  {
   "cell_type": "code",
   "execution_count": 29,
   "id": "ca1be9c1",
   "metadata": {
    "tags": []
   },
   "outputs": [],
   "source": [
    "def find_prices_within(lat_min, lat_max, long_min, long_max):\n",
    "    \"\"\"\n",
    "    find_prices_within(lat_min, lat_max, long_min, long_max) returns an unordered \n",
    "    list of prices of all the rooms within the geographical location between and including\n",
    "    the latitudes lat_min and lat_max and longitudes long_min and long_max.\n",
    "    \"\"\"\n",
    "    prices = []\n",
    "    \n",
    "    for index in range(len(csv_rows)):\n",
    "        if lat_min <= float(cell(index, \"latitude\")) and float(cell(index, \"latitude\")) <= lat_max and long_min <= float(cell(index, \"longitude\")) and float(cell(index, \"longitude\")) <= long_max:\n",
    "            prices.append(cell(index, \"price\"))\n",
    "    \n",
    "    return prices"
   ]
  },
  {
   "cell_type": "markdown",
   "id": "7cb93af3",
   "metadata": {
    "deletable": false,
    "editable": false
   },
   "source": [
    "**Question 12:** What is the **lowest** `price` room near *NYU* (`40.729 <= latitude <= 40.73, -74.01 <= longitude <= -74.00`)?\n",
    "\n",
    "You **must** call the `find_prices_within` function to answer this question."
   ]
  },
  {
   "cell_type": "code",
   "execution_count": 30,
   "id": "89e9a9f8",
   "metadata": {
    "tags": []
   },
   "outputs": [
    {
     "data": {
      "text/plain": [
       "75"
      ]
     },
     "execution_count": 30,
     "metadata": {},
     "output_type": "execute_result"
    }
   ],
   "source": [
    "# compute and store the answer in the variable 'min_price_nyu', then display it\n",
    "all_prices_nyu = find_prices_within(40.729, 40.73, -74.01, -74.00)\n",
    "min_price_nyu = min(all_prices_nyu)\n",
    "\n",
    "min_price_nyu"
   ]
  },
  {
   "cell_type": "code",
   "execution_count": 31,
   "id": "c7bc48e6",
   "metadata": {
    "deletable": false,
    "editable": false
   },
   "outputs": [
    {
     "data": {
      "text/html": [
       "<p><strong><pre style='display: inline;'>q12</pre></strong> passed! 🍀</p>"
      ],
      "text/plain": [
       "q12 results: All test cases passed!"
      ]
     },
     "execution_count": 31,
     "metadata": {},
     "output_type": "execute_result"
    }
   ],
   "source": [
    "grader.check(\"q12\")"
   ]
  },
  {
   "cell_type": "markdown",
   "id": "35092860",
   "metadata": {
    "deletable": false,
    "editable": false
   },
   "source": [
    "### Function 4: `median(items)` \n",
    "\n",
    "We require you to complete the below function to answer the next several questions (this is a **requirement**, and you will **lose points** if you do not implement this function).\n",
    "You may copy/paste this function from your Lab-P6 notebook."
   ]
  },
  {
   "cell_type": "code",
   "execution_count": 32,
   "id": "41a321b1",
   "metadata": {
    "tags": []
   },
   "outputs": [],
   "source": [
    "def median(items):\n",
    "    \"\"\"\n",
    "    median(items) returns the median of the list `items`\n",
    "    \"\"\"\n",
    "    items.sort()\n",
    "    length = len(items)\n",
    "    median = 0;\n",
    "    if length % 2 == 1:\n",
    "        median = items[int(length / 2)]\n",
    "    else: \n",
    "        median = (items[length / 2] + items[length / 2 - 1]) / 2\n",
    "        \n",
    "    return median\n",
    "    # you may copy/paste this function from your Lab-P6 notebook"
   ]
  },
  {
   "cell_type": "markdown",
   "id": "aecac920",
   "metadata": {
    "deletable": false,
    "editable": false
   },
   "source": [
    "**Question 13:** What is the **median** `price` of the rooms near *Columbia University* (`40.79 <= latitude <= 40.80, -73.96 <= longitude <= -73.95`)?\n",
    "\n",
    "You **must** call the `find_prices_within` function to answer this question."
   ]
  },
  {
   "cell_type": "code",
   "execution_count": 33,
   "id": "1167d39b",
   "metadata": {
    "tags": []
   },
   "outputs": [
    {
     "data": {
      "text/plain": [
       "100"
      ]
     },
     "execution_count": 33,
     "metadata": {},
     "output_type": "execute_result"
    }
   ],
   "source": [
    "# compute and store the answer in the variable 'median_price_columbia', then display it\n",
    "price_columbia = find_prices_within(40.79, 40.80, -73.96, -73.95)\n",
    "price_columbia\n",
    "median_price_columbia = median(price_columbia)\n",
    "\n",
    "median_price_columbia"
   ]
  },
  {
   "cell_type": "code",
   "execution_count": 34,
   "id": "4b0108fa",
   "metadata": {
    "deletable": false,
    "editable": false
   },
   "outputs": [
    {
     "data": {
      "text/html": [
       "<p><strong><pre style='display: inline;'>q13</pre></strong> passed! 🚀</p>"
      ],
      "text/plain": [
       "q13 results: All test cases passed!"
      ]
     },
     "execution_count": 34,
     "metadata": {},
     "output_type": "execute_result"
    }
   ],
   "source": [
    "grader.check(\"q13\")"
   ]
  },
  {
   "cell_type": "markdown",
   "id": "e0f6fdc4",
   "metadata": {
    "deletable": false,
    "editable": false
   },
   "source": [
    "**Question 14:** What **percentage** of rooms near *Rockefeller Center* (`40.749 <= latitude <= 40.75, -73.98 <= longitude <= -73.97`) have a `price` **more than** *100*?\n",
    "\n",
    "Your answer **must** be a *float* value between *0* and *100*. You **must** call the `find_prices_within` function to answer this question."
   ]
  },
  {
   "cell_type": "code",
   "execution_count": 35,
   "id": "4ff94931",
   "metadata": {
    "tags": []
   },
   "outputs": [
    {
     "data": {
      "text/plain": [
       "93.10344827586206"
      ]
     },
     "execution_count": 35,
     "metadata": {},
     "output_type": "execute_result"
    }
   ],
   "source": [
    "# compute and store the answer in the variable 'pct_price_over_hundred', then display it\n",
    "price_rockefeller = find_prices_within(40.749, 40.75, -73.98, -73.97)\n",
    "\n",
    "total = len(price_rockefeller)\n",
    "count = 0;\n",
    "\n",
    "for index in range(total):\n",
    "    if price_rockefeller[index] > 100:\n",
    "        count += 1\n",
    "        \n",
    "pct_price_over_hundred = float(count / total * 100)\n",
    "\n",
    "pct_price_over_hundred"
   ]
  },
  {
   "cell_type": "code",
   "execution_count": 36,
   "id": "54ed36d0",
   "metadata": {
    "deletable": false,
    "editable": false
   },
   "outputs": [
    {
     "data": {
      "text/html": [
       "<p><strong><pre style='display: inline;'>q14</pre></strong> passed! 🌈</p>"
      ],
      "text/plain": [
       "q14 results: All test cases passed!"
      ]
     },
     "execution_count": 36,
     "metadata": {},
     "output_type": "execute_result"
    }
   ],
   "source": [
    "grader.check(\"q14\")"
   ]
  },
  {
   "cell_type": "markdown",
   "id": "fd02b61a",
   "metadata": {
    "deletable": false,
    "editable": false
   },
   "source": [
    "### Function 5: `avg_review_avail_ratio(neighborhood)` \n",
    "\n",
    "We require you to complete the below function to answer the next several questions (this is a **requirement**, and you will **lose points** if you do not implement this function).  \n",
    "\n",
    "$$\\text{Ratio of number of reviews and availability =} \\frac{\\texttt{number_of_reviews}}{\\texttt{availability_365}}$$\n",
    "  \n",
    "In this function, we want to compute the **average ratio** of `number_of_reviews` and `availability_365` in a `neighborhood`.\n",
    "\n",
    "You **must** **ignore** rooms that have `availability_365` data of 0.  \n",
    "You **must** also **ignore** rooms for which the ratio cannot be computed due to **missing data** (i.e., either the numerator or denominator is **missing**).\n",
    "\n",
    "**For example**, Let's consider a sample dataset which only has two rooms, and we want to compute the average ratio of `number_of_reviews` and `availability_365` in *Jamaica*\n",
    "\n",
    "`name`|`number_of_reviews`| `availability_365`|`neighborhood`\n",
    "------|------|------|------|\n",
    "room_one| 4 | 200| Jamaica\n",
    "room_two| 200| 20 |Jamaica\n",
    "\n",
    "\n",
    "1. Compute the ratio for each of the room in the `neighborhood` *Jamaica*: \n",
    "\n",
    "    review-availability ratio for room_one = 4 / 200 = 0.02.\n",
    "    \n",
    "    review-availability ratio for room_two = 200 / 20 = 10. \n",
    "    \n",
    "2. Calculate the average between the two ratios:\n",
    "   $$\\texttt{average_review_availability} \\text{ in Jamaica} = \\frac{0.02 + 10}{2} = 5.01.$$\n",
    "   \n",
    "**Hints:**\n",
    "1.  The denominator is the availability of a room (`availability_365`). The numerator is the number of reviews of a room (`number_of_reviews column`). \n",
    "2.  Be careful! You need to compute the ratio for each room in the given neighborhood, then take the average of those ratios. Simply dividing the sum of reviews by the sum of availability will calculate the wrong answer."
   ]
  },
  {
   "cell_type": "code",
   "execution_count": 37,
   "id": "7c6c9749",
   "metadata": {
    "tags": []
   },
   "outputs": [],
   "source": [
    "def avg_review_avail_ratio(neighborhood):\n",
    "    \"\"\"\n",
    "    avg_review_avail_ratio(neighborhood) returns the average of the ratios of \n",
    "    number of reviews to availability of all rooms in the `neighborhood`;\n",
    "    If there are no rooms in the `neighborhood` for which the ratio can\n",
    "    be computed, then the function returns `None`\n",
    "    \"\"\"\n",
    "    total_ratio = 0\n",
    "    count = None\n",
    "    for index in range(len(csv_rows)):\n",
    "        if cell(index, \"neighborhood\") == neighborhood:\n",
    "            if int(cell(index, \"availability_365\")) == 0:\n",
    "                continue\n",
    "            if cell(index, \"number_of_reviews\") == None or cell(index, \"availability_365\") == None:\n",
    "                continue\n",
    "            else:     \n",
    "                total_ratio += float(int(cell(index, \"number_of_reviews\")) / int(cell(index, \"availability_365\")))\n",
    "                if count == None:\n",
    "                    count = 1\n",
    "                else:    \n",
    "                    count += 1\n",
    "                \n",
    "    if count == None:\n",
    "        return None\n",
    "    \n",
    "    return total_ratio / count\n",
    "\n",
    "    # TODO: you should **ignore** rooms that have `availability_365` data of 0\n",
    "    # TODO: you should **ignore** rooms for which the ratio cannot be computed due to missing data\n",
    "    # Hint: the numerator is the number of reviews of a room (`number_of_reviews column`)\n",
    "    # Hint: the denominator is the availability of a room (`availability_365` column)\n",
    "    # Hint: note that you need to compute the average of the ratios, **not** the ratio of the averages.\n",
    "    #       you must compute the ratio for each room in the `neighborhood`, then take the average of those ratios.\n",
    "    #       simply dividing the sum of reviews by the sum of availability will calculate the wrong answer."
   ]
  },
  {
   "cell_type": "markdown",
   "id": "0ceca136",
   "metadata": {
    "deletable": false,
    "editable": false
   },
   "source": [
    "**Question 15:** What is the **average of the ratios** of the `number_of_reviews` to `availability_365` in the `neighborhood` *Bushwick*?\n",
    "\n",
    "You **must** call the `avg_review_avail_ratio` function to answer this question."
   ]
  },
  {
   "cell_type": "code",
   "execution_count": 38,
   "id": "a8cf34c9",
   "metadata": {
    "tags": []
   },
   "outputs": [
    {
     "data": {
      "text/plain": [
       "0.9856466156705752"
      ]
     },
     "execution_count": 38,
     "metadata": {},
     "output_type": "execute_result"
    }
   ],
   "source": [
    "# compute and store the answer in the variable 'bushwick_avg_ratio', then display it\n",
    "bushwick_avg_ratio = avg_review_avail_ratio(\"Bushwick\")\n",
    "\n",
    "bushwick_avg_ratio"
   ]
  },
  {
   "cell_type": "code",
   "execution_count": 39,
   "id": "bc43cf68",
   "metadata": {
    "deletable": false,
    "editable": false
   },
   "outputs": [
    {
     "data": {
      "text/html": [
       "<p><strong><pre style='display: inline;'>q15</pre></strong> passed! 🎉</p>"
      ],
      "text/plain": [
       "q15 results: All test cases passed!"
      ]
     },
     "execution_count": 39,
     "metadata": {},
     "output_type": "execute_result"
    }
   ],
   "source": [
    "grader.check(\"q15\")"
   ]
  },
  {
   "cell_type": "markdown",
   "id": "defaf37e",
   "metadata": {
    "deletable": false,
    "editable": false
   },
   "source": [
    "**Question 16:** What is the **average of the ratios** of the `number_of_reviews` to `availability_365` in the `neighborhood` *Manhattan Beach*?\n",
    "\n",
    "You **must** call the `avg_review_avail_ratio` function to answer this question."
   ]
  },
  {
   "cell_type": "code",
   "execution_count": 40,
   "id": "8d8ddc0e",
   "metadata": {
    "tags": []
   },
   "outputs": [
    {
     "data": {
      "text/plain": [
       "0.27323293295076073"
      ]
     },
     "execution_count": 40,
     "metadata": {},
     "output_type": "execute_result"
    }
   ],
   "source": [
    "# compute and store the answer in the variable 'manhattan_beach_avg_ratio', then display it\n",
    "manhattan_beach_avg_ratio = avg_review_avail_ratio(\"Manhattan Beach\")\n",
    "\n",
    "manhattan_beach_avg_ratio"
   ]
  },
  {
   "cell_type": "code",
   "execution_count": 41,
   "id": "13ba034f",
   "metadata": {
    "deletable": false,
    "editable": false
   },
   "outputs": [
    {
     "data": {
      "text/html": [
       "<p><strong><pre style='display: inline;'>q16</pre></strong> passed! ✨</p>"
      ],
      "text/plain": [
       "q16 results: All test cases passed!"
      ]
     },
     "execution_count": 41,
     "metadata": {},
     "output_type": "execute_result"
    }
   ],
   "source": [
    "grader.check(\"q16\")"
   ]
  },
  {
   "cell_type": "markdown",
   "id": "744122c7",
   "metadata": {
    "deletable": false,
    "editable": false
   },
   "source": [
    "**Question 17:** Which `neighborhood` in the `neighborhood_group` *Staten Island* has the **highest average of ratios** of the `number_of_reviews` to `availability_365`?\n",
    "\n",
    "You **must** **ignore** any `neighborhood` for which the average ratio **cannot be computed**.\n",
    "\n",
    "**Clarification:** Don't worry about it if this cell takes around 10 seconds to run, that is expected. If it takes much longer (i.e., more than 30 seconds), you **must** optimize your code. Attend office hours if you are unable to get your code to run faster.\n",
    "\n",
    "**Hint:** You do not need to compute the average of ratios for the **same** `neighborhood` more than once. Make a list of the **unique** neighborhoods in *Staten Island* first, and then find the **highest average of ratios** among those `neighborhoods`."
   ]
  },
  {
   "cell_type": "code",
   "execution_count": 42,
   "id": "624f1d31",
   "metadata": {
    "tags": []
   },
   "outputs": [
    {
     "data": {
      "text/plain": [
       "'Arden Heights'"
      ]
     },
     "execution_count": 42,
     "metadata": {},
     "output_type": "execute_result"
    }
   ],
   "source": [
    "# compute and store the answer in the variable 'max_nbhd_staten_island', then display it\n",
    "neighborhoods_with_duplicates = []\n",
    "neighborhoods = []\n",
    "\n",
    "for index in range(len(csv_rows)):\n",
    "    if cell(index, \"neighborhood_group\") == \"Staten Island\":\n",
    "        neighborhoods_with_duplicates.append(cell(index, \"neighborhood\"))\n",
    "        \n",
    "for name in neighborhoods_with_duplicates:\n",
    "    if name not in neighborhoods:\n",
    "        neighborhoods.append(name)\n",
    "        \n",
    "max_nbhd_staten_island = None\n",
    "highest_avg_ratio = None\n",
    "for index in range(len(neighborhoods)):\n",
    "    avg_ratio = avg_review_avail_ratio(neighborhoods[index])\n",
    "    if avg_ratio == None:\n",
    "        continue\n",
    "    else:\n",
    "        if max_nbhd_staten_island == None and highest_avg_ratio == None:\n",
    "            max_nbhd_staten_island = neighborhoods[index]\n",
    "            highest_avg_ratio = avg_ratio\n",
    "        else: \n",
    "            if avg_ratio > highest_avg_ratio:\n",
    "                highest_avg_ratio = avg_ratio\n",
    "                max_nbhd_staten_island = neighborhoods[index]\n",
    "    \n",
    "max_nbhd_staten_island    "
   ]
  },
  {
   "cell_type": "code",
   "execution_count": 43,
   "id": "ef9fb72d",
   "metadata": {
    "deletable": false,
    "editable": false
   },
   "outputs": [
    {
     "data": {
      "text/html": [
       "<p><strong><pre style='display: inline;'>q17</pre></strong> passed! 🌈</p>"
      ],
      "text/plain": [
       "q17 results: All test cases passed!"
      ]
     },
     "execution_count": 43,
     "metadata": {},
     "output_type": "execute_result"
    }
   ],
   "source": [
    "grader.check(\"q17\")"
   ]
  },
  {
   "cell_type": "markdown",
   "id": "d38c664b",
   "metadata": {
    "deletable": false,
    "editable": false
   },
   "source": [
    "### Function 6: `find_good_rooms(room_type, neighborhood, number_of_reviews_threshold)`\n",
    "\n",
    "We require you to complete the below function to answer the next several questions (this is a **requirement**, and you will **lose points** if you do not implement this function).  \n",
    "\n",
    "Price, location, room type and number of reviews are metrics that people look into when they book a room in Airbnb. \n",
    "In this function, we want to return a **list** of all the room names (`name`) of the given `room_type` from the given `neighborhood` who have received **at least** `number_of_reviews_threshold` many reviews (`number_of_reviews`), and are **cheaper** than the **average** priced (`price`) room of the given `room_type` from that `neighborhood`.\n",
    "\n",
    "The order of the **list** does **not** matter. You **must** **ignore** any rooms for which the `price`, `room_type`, `neighborhood`, or `number_of_reviews` data is **missing**. If the average `price` of rooms of the given `room_type` from the given `neighborhood` **cannot be computed** due to missing data, then the function **must** return `None`.\n",
    "\n",
    "**For example**, let's consider the following small dataset:  \n",
    "\n",
    "`name`| `price` |`number_of_reviews`|`room_type`|`neighborhood`\n",
    "------|------|------|------|------|\n",
    "room_one| 65 | 165| Private room |Jamaica\n",
    "room_two| 50 |200| Private room |Jamaica\n",
    "room_three| 80| 120| Private room |Jamaica\n",
    "room_four| 300| 300| Private room |Jamaica\n",
    "room_five| 450| 240| Private room |Jamaica\n",
    "room_six| 180| 150| Private room |Jamaica\n",
    "\n",
    "In this small dataset, we want to find the list of all room names in *Jamaica* of `room_type` *Private room* with **at least** *150* reviews that have a price **lower** than the **average** price of `room_type` *Private room* in *Jamaica*. \n",
    "    \n",
    "1. The **average** `price` of a *Private room* in the `neighborhood` *Jamaica* is:\n",
    "$$\\frac{65 + 50 + 80 + 300 + 450 + 180}{6} = 187.5.$$  \n",
    "\n",
    "2. We can see that there are *4* rooms (`room_one`, `room_two`, `room_three`, and `room_six`) with a `price` **lower** than the **average**, *187.5*. Of these rooms, *3* of them (`room_one`, `room_two`, and `room_six`) also have `number_of_reviews` **at least** *150*.\n",
    "\n",
    "3. So, the output should be the **list** `[\"room_one\", \"room_two\", \"room_six\"]`.\n",
    "\n",
    "The `find_good_rooms` function definition **must** invoke the function `avg_price_per_room_type`. **We'll manually deduct points** if you don't use `avg_price_per_room_type`. "
   ]
  },
  {
   "cell_type": "code",
   "execution_count": 44,
   "id": "99284b30",
   "metadata": {
    "tags": []
   },
   "outputs": [],
   "source": [
    "def find_good_rooms(room_type, neighborhood, number_of_reviews_threshold=150):\n",
    "    \"\"\"\n",
    "    find_good_rooms(room_type, neighborhood, number_of_reviews_threshold)\n",
    "    returns a list of room `names` having at least the given `number_of_reviews` \n",
    "    that also have a price that is lower than the average price of rooms\n",
    "    of the same `room_type` from the same `neighborhood`\n",
    "    \"\"\"    \n",
    "    avg_price = avg_price_per_room_type(room_type, neighborhood)\n",
    "    \n",
    "    good_rooms = []\n",
    "    \n",
    "    for index in range(len(csv_rows)):\n",
    "        if cell(index, \"room_type\") == room_type and cell(index, \"neighborhood\") == neighborhood and cell(index, \"price\") < avg_price and int(cell(index, \"number_of_reviews\")) >= number_of_reviews_threshold:\n",
    "            good_rooms.append(cell(index, \"name\"))\n",
    "            \n",
    "    return good_rooms\n",
    "    # TODO: use 'avg_price_per_room_type' to find the average `price` of rooms\n",
    "    #       of the given `room_type` from the given `neighborhood`\n",
    "    # TODO: create an empty list\n",
    "    # TODO: add the names of all the rooms of the given `room_type` from the\n",
    "    #       the given `neighborhood` with `price` lower than the average\n",
    "    #       and `number_of_reviews` at least the threshold\n",
    "    # TODO: return the list"
   ]
  },
  {
   "cell_type": "markdown",
   "id": "1264dc54",
   "metadata": {
    "deletable": false,
    "editable": false
   },
   "source": [
    "**Question 18:** Find a **list** of all the *Entire home/apt* type rooms (`room_type`) in the *Chinatown* `neighborhood` with at least *100* reviews (`number_of_reviews`) that are cheaper than average.\n",
    "\n",
    "Your answer **must** be a **list**. The order does **not** matter. You **must** call the `find_good_rooms` function to answer this question."
   ]
  },
  {
   "cell_type": "code",
   "execution_count": 45,
   "id": "f1ca2816",
   "metadata": {
    "tags": []
   },
   "outputs": [
    {
     "data": {
      "text/plain": [
       "['Cute & Cozy Lower East Side 1 bdrm',\n",
       " 'QT STUDIO FOR ROMANTIC COUPLES',\n",
       " 'Lower East Side 1bedroom apt in NYC',\n",
       " 'Two Bridges District Chinatown NYC',\n",
       " 'Fun LES 1br, close to everything!',\n",
       " 'Amazing Downtown With Rooftop',\n",
       " 'Sunny Central Location!',\n",
       " 'Cozy Apartment in Lower Manhattan',\n",
       " 'Gorgeous Loft in the LES/Chinatown!',\n",
       " 'Spacious 2 Bedroom Lower East Side',\n",
       " 'Lovely 2-bedroom 1bath in Chinatown & Little Italy']"
      ]
     },
     "execution_count": 45,
     "metadata": {},
     "output_type": "execute_result"
    }
   ],
   "source": [
    "# compute and store the answer in the variable 'good_chinatown_rooms', then display it\n",
    "good_chinatown_rooms = find_good_rooms(\"Entire home/apt\", \"Chinatown\", 100)\n",
    "\n",
    "good_chinatown_rooms"
   ]
  },
  {
   "cell_type": "code",
   "execution_count": 46,
   "id": "7433079b",
   "metadata": {
    "deletable": false,
    "editable": false
   },
   "outputs": [
    {
     "data": {
      "text/html": [
       "<p><strong><pre style='display: inline;'>q18</pre></strong> passed! 🎉</p>"
      ],
      "text/plain": [
       "q18 results: All test cases passed!"
      ]
     },
     "execution_count": 46,
     "metadata": {},
     "output_type": "execute_result"
    }
   ],
   "source": [
    "grader.check(\"q18\")"
   ]
  },
  {
   "cell_type": "markdown",
   "id": "a8f6d90f",
   "metadata": {
    "deletable": false,
    "editable": false
   },
   "source": [
    "**Question 19:** Find a **list** of all the *Private room* type rooms (`room_type`) in the *Harlem* `neighborhood` with $\\geq 300$ and $< 500$ reviews (`number_of_reviews`) that are cheaper than average.\n",
    "\n",
    "Your answer **must** be a **list**. The order does **not** matter. You **must** call the `find_good_rooms` function to answer this question.\n",
    "\n",
    "**Hint**: Call the `find_good_rooms` function twice with the two different `number_of_reviews_threshold` values, and use these two lists to compute the answer."
   ]
  },
  {
   "cell_type": "code",
   "execution_count": 47,
   "id": "0f8d1637",
   "metadata": {
    "tags": []
   },
   "outputs": [
    {
     "data": {
      "text/plain": [
       "['PRIVATE Room on Historic Sugar Hill',\n",
       " 'Bright Room With A Great River View',\n",
       " '1 Pvt. Room in Upper West Manhattan']"
      ]
     },
     "execution_count": 47,
     "metadata": {},
     "output_type": "execute_result"
    }
   ],
   "source": [
    "# compute and store the answer in the variable 'decent_harlem_rooms', then display it\n",
    "decent_harlem_rooms_300 = find_good_rooms(\"Private room\", \"Harlem\", 300)\n",
    "\n",
    "decent_harlem_rooms_500 = find_good_rooms(\"Private room\", \"Harlem\", 500)\n",
    "\n",
    "contains_duplicated_names = decent_harlem_rooms_300 + decent_harlem_rooms_500\n",
    "\n",
    "decent_harlem_rooms = []\n",
    "    \n",
    "for room in contains_duplicated_names:\n",
    "    if contains_duplicated_names.count(room) == 1:\n",
    "        decent_harlem_rooms.append(room)\n",
    "        \n",
    "decent_harlem_rooms"
   ]
  },
  {
   "cell_type": "code",
   "execution_count": 48,
   "id": "4473e299",
   "metadata": {
    "deletable": false,
    "editable": false
   },
   "outputs": [
    {
     "data": {
      "text/html": [
       "<p><strong><pre style='display: inline;'>q19</pre></strong> passed! 🚀</p>"
      ],
      "text/plain": [
       "q19 results: All test cases passed!"
      ]
     },
     "execution_count": 48,
     "metadata": {},
     "output_type": "execute_result"
    }
   ],
   "source": [
    "grader.check(\"q19\")"
   ]
  },
  {
   "cell_type": "markdown",
   "id": "73681939",
   "metadata": {
    "deletable": false,
    "editable": false
   },
   "source": [
    "**Question 20:** On a trip to NYC, you need to stay for *3* days in *Queens*, and then *4* days in *Brooklyn*. What is the **minimum** amount of money you need to spend on this trip?\n",
    "\n",
    "Note that:\n",
    "1. The `price` of each room is for one day, and you'll only stay in one room at each location.\n",
    "2. The total cost = (lowest price in *Queens*) * 3 + (lowest price in *Brooklyn*) * 4.\n",
    "3. You'll need to **skip** those rooms that don't have enough availability, for example, you **must** ignore rooms in *Queens* whose availability is **less than** *3*.\n",
    "4. You'll need to **skip** those rooms for which you don't meet the required number of `minimum_nights`, for example, you **must** ignore rooms in *Brooklyn* whose `minimum_nights` is **greater than** *4*.\n",
    "5. You **must** skip all rooms with any of the relevant data missing.\n",
    "\n",
    "\n",
    "**Hint:** You might want to define a helper function to compute the **minimum** daily `price` of a room in a given `neighborhood_group` among rooms whose `availability_365` is at least the number of days one will be staying in that neighborhood group, and the `minimum_nights` is at most the number of the number of days one will be staying in that neighborhood group."
   ]
  },
  {
   "cell_type": "code",
   "execution_count": 49,
   "id": "f99d0a08",
   "metadata": {
    "tags": []
   },
   "outputs": [
    {
     "data": {
      "text/plain": [
       "30"
      ]
     },
     "execution_count": 49,
     "metadata": {},
     "output_type": "execute_result"
    }
   ],
   "source": [
    "# compute and store the answer in the variable 'min_cost_trip', then display it\n",
    "def minimum_daily_price(neighborhood_group, days):\n",
    "    cheapest_per_day = None;\n",
    "    for index in range(len(csv_rows)):\n",
    "        if cell(index, \"neighborhood_group\") == neighborhood_group and int(cell(index, \"availability_365\")) >= days and int(cell(index, \"minimum_nights\")) < (days + 1):\n",
    "            if cheapest_per_day == None:\n",
    "                cheapest_per_day = cell(index, \"price\")\n",
    "            else:\n",
    "                if cell(index, \"price\") < cheapest_per_day:\n",
    "                    cheapest_per_day = cell(index, \"price\")\n",
    "    return cheapest_per_day\n",
    "\n",
    "queens_cost = minimum_daily_price(\"Queens\", 3) * 3\n",
    "\n",
    "brooklyn_cost = minimum_daily_price(\"Brooklyn\", 4) * 4\n",
    "\n",
    "min_cost_trip = queens_cost + brooklyn_cost\n",
    "\n",
    "min_cost_trip"
   ]
  },
  {
   "cell_type": "code",
   "execution_count": 50,
   "id": "d80ed37a",
   "metadata": {
    "deletable": false,
    "editable": false
   },
   "outputs": [
    {
     "data": {
      "text/html": [
       "<p><strong><pre style='display: inline;'>q20</pre></strong> passed! 🎉</p>"
      ],
      "text/plain": [
       "q20 results: All test cases passed!"
      ]
     },
     "execution_count": 50,
     "metadata": {},
     "output_type": "execute_result"
    }
   ],
   "source": [
    "grader.check(\"q20\")"
   ]
  },
  {
   "cell_type": "markdown",
   "id": "91e0ce42",
   "metadata": {
    "deletable": false,
    "editable": false
   },
   "source": [
    "## Submission\n",
    "It is recommended that at this stage, you Restart and Run all Cells in your notebook.\n",
    "That will automatically save your work and generate a zip file for you to submit.\n",
    "\n",
    "**SUBMISSION INSTRUCTIONS**:\n",
    "1. **Upload** the zipfile to Gradescope.\n",
    "2. Check **Gradescope otter** results as soon as the auto-grader execution gets completed. Don't worry about the score showing up as -/100.0. You only need to check that the test cases passed."
   ]
  },
  {
   "cell_type": "code",
   "execution_count": 51,
   "id": "7d571556",
   "metadata": {
    "cell_type": "code"
   },
   "outputs": [
    {
     "data": {
      "application/javascript": [
       "IPython.notebook.save_checkpoint();"
      ],
      "text/plain": [
       "<IPython.core.display.Javascript object>"
      ]
     },
     "metadata": {},
     "output_type": "display_data"
    }
   ],
   "source": [
    "# running this cell will create a new save checkpoint for your notebook\n",
    "from IPython.display import display, Javascript\n",
    "display(Javascript('IPython.notebook.save_checkpoint();'))"
   ]
  },
  {
   "cell_type": "code",
   "execution_count": 52,
   "id": "023947a7",
   "metadata": {
    "cell_type": "code",
    "deletable": false,
    "editable": false
   },
   "outputs": [
    {
     "name": "stdout",
     "output_type": "stream",
     "text": [
      "[jupytext] Reading p6.ipynb in format ipynb\n",
      "[jupytext] Updating the timestamp of p6.py\n"
     ]
    }
   ],
   "source": [
    "!jupytext --to py p6.ipynb"
   ]
  },
  {
   "cell_type": "code",
   "execution_count": 53,
   "id": "6cc6260d",
   "metadata": {
    "cell_type": "code",
    "deletable": false,
    "editable": false
   },
   "outputs": [
    {
     "name": "stdout",
     "output_type": "stream",
     "text": [
      "Running your submission against local test cases...\n",
      "\n",
      "\n",
      "\n",
      "Your submission received the following results when run against available test cases:\n",
      "\n",
      "    q1 results: All test cases passed!\n",
      "\n",
      "    q2 results: All test cases passed!\n",
      "\n",
      "    q3 results: All test cases passed!\n",
      "\n",
      "    q4 results: All test cases passed!\n",
      "\n",
      "    q5 results: All test cases passed!\n",
      "\n",
      "    q6 results: All test cases passed!\n",
      "\n",
      "    q7 results: All test cases passed!\n",
      "\n",
      "    q8 results: All test cases passed!\n",
      "\n",
      "    q9 results: All test cases passed!\n",
      "\n",
      "    q10 results: All test cases passed!\n",
      "\n",
      "    q11 results: All test cases passed!\n",
      "\n",
      "    q12 results: All test cases passed!\n",
      "\n",
      "    q13 results: All test cases passed!\n",
      "\n",
      "    q14 results: All test cases passed!\n",
      "\n",
      "    q15 results: All test cases passed!\n",
      "\n",
      "    q16 results: All test cases passed!\n",
      "\n",
      "    q17 results: All test cases passed!\n",
      "\n",
      "    q18 results: All test cases passed!\n",
      "\n",
      "    q19 results: All test cases passed!\n",
      "\n",
      "    q20 results: All test cases passed!\n"
     ]
    },
    {
     "data": {
      "text/html": [
       "\n",
       "            <p>Your submission has been exported. Click <a href=\"p6_2023_03_01T17_37_04_056572.zip\" download=\"p6_2023_03_01T17_37_04_056572.zip\" target=\"_blank\">here</a>\n",
       "            to download the zip file.</p>\n",
       "            "
      ],
      "text/plain": [
       "<IPython.core.display.HTML object>"
      ]
     },
     "metadata": {},
     "output_type": "display_data"
    }
   ],
   "source": [
    "p6_test.check_file_size(\"p6.ipynb\")\n",
    "grader.export(pdf=False, run_tests=True, files=[\"p6.py\"])"
   ]
  },
  {
   "cell_type": "markdown",
   "id": "1d42dabf",
   "metadata": {
    "deletable": false,
    "editable": false
   },
   "source": [
    " "
   ]
  },
  {
   "cell_type": "code",
   "execution_count": null,
   "id": "79b20978",
   "metadata": {},
   "outputs": [],
   "source": []
  },
  {
   "cell_type": "code",
   "execution_count": null,
   "id": "a5fda6a7",
   "metadata": {},
   "outputs": [],
   "source": []
  },
  {
   "cell_type": "code",
   "execution_count": null,
   "id": "d43a8e7c",
   "metadata": {},
   "outputs": [],
   "source": []
  }
 ],
 "metadata": {
  "kernelspec": {
   "display_name": "Python 3 (ipykernel)",
   "language": "python",
   "name": "python3"
  },
  "language_info": {
   "codemirror_mode": {
    "name": "ipython",
    "version": 3
   },
   "file_extension": ".py",
   "mimetype": "text/x-python",
   "name": "python",
   "nbconvert_exporter": "python",
   "pygments_lexer": "ipython3",
   "version": "3.9.13"
  },
  "otter": {
   "OK_FORMAT": true,
   "tests": {
    "q1": {
     "name": "q1",
     "points": 5,
     "suites": [
      {
       "cases": [
        {
         "code": ">>> p6_test.check(\"q1\", neighborhood_groups)\nTrue",
         "hidden": false,
         "locked": false
        }
       ],
       "scored": true,
       "setup": "",
       "teardown": "",
       "type": "doctest"
      }
     ]
    },
    "q10": {
     "name": "q10",
     "points": 5,
     "suites": [
      {
       "cases": [
        {
         "code": ">>> p6_test.check(\"q10\", pvt_room_little_neck)\nTrue",
         "hidden": false,
         "locked": false
        }
       ],
       "scored": true,
       "setup": "",
       "teardown": "",
       "type": "doctest"
      }
     ]
    },
    "q11": {
     "name": "q11",
     "points": 5,
     "suites": [
      {
       "cases": [
        {
         "code": ">>> p6_test.check(\"q11\", home_pvt_room_astoria_diff)\nTrue",
         "hidden": false,
         "locked": false
        }
       ],
       "scored": true,
       "setup": "",
       "teardown": "",
       "type": "doctest"
      }
     ]
    },
    "q12": {
     "name": "q12",
     "points": 5,
     "suites": [
      {
       "cases": [
        {
         "code": ">>> p6_test.check(\"q12\", min_price_nyu)\nTrue",
         "hidden": false,
         "locked": false
        }
       ],
       "scored": true,
       "setup": "",
       "teardown": "",
       "type": "doctest"
      }
     ]
    },
    "q13": {
     "name": "q13",
     "points": 5,
     "suites": [
      {
       "cases": [
        {
         "code": ">>> p6_test.check(\"q13\", median_price_columbia)\nTrue",
         "hidden": false,
         "locked": false
        }
       ],
       "scored": true,
       "setup": "",
       "teardown": "",
       "type": "doctest"
      }
     ]
    },
    "q14": {
     "name": "q14",
     "points": 5,
     "suites": [
      {
       "cases": [
        {
         "code": ">>> p6_test.check(\"q14\", pct_price_over_hundred)\nTrue",
         "hidden": false,
         "locked": false
        }
       ],
       "scored": true,
       "setup": "",
       "teardown": "",
       "type": "doctest"
      }
     ]
    },
    "q15": {
     "name": "q15",
     "points": 5,
     "suites": [
      {
       "cases": [
        {
         "code": ">>> p6_test.check(\"q15\", bushwick_avg_ratio)\nTrue",
         "hidden": false,
         "locked": false
        }
       ],
       "scored": true,
       "setup": "",
       "teardown": "",
       "type": "doctest"
      }
     ]
    },
    "q16": {
     "name": "q16",
     "points": 5,
     "suites": [
      {
       "cases": [
        {
         "code": ">>> p6_test.check(\"q16\", manhattan_beach_avg_ratio)\nTrue",
         "hidden": false,
         "locked": false
        }
       ],
       "scored": true,
       "setup": "",
       "teardown": "",
       "type": "doctest"
      }
     ]
    },
    "q17": {
     "name": "q17",
     "points": 5,
     "suites": [
      {
       "cases": [
        {
         "code": ">>> p6_test.check(\"q17\", max_nbhd_staten_island)\nTrue",
         "hidden": false,
         "locked": false
        }
       ],
       "scored": true,
       "setup": "",
       "teardown": "",
       "type": "doctest"
      }
     ]
    },
    "q18": {
     "name": "q18",
     "points": 5,
     "suites": [
      {
       "cases": [
        {
         "code": ">>> p6_test.check(\"q18\", good_chinatown_rooms)\nTrue",
         "hidden": false,
         "locked": false
        }
       ],
       "scored": true,
       "setup": "",
       "teardown": "",
       "type": "doctest"
      }
     ]
    },
    "q19": {
     "name": "q19",
     "points": 5,
     "suites": [
      {
       "cases": [
        {
         "code": ">>> p6_test.check(\"q19\", decent_harlem_rooms)\nTrue",
         "hidden": false,
         "locked": false
        }
       ],
       "scored": true,
       "setup": "",
       "teardown": "",
       "type": "doctest"
      }
     ]
    },
    "q2": {
     "name": "q2",
     "points": 5,
     "suites": [
      {
       "cases": [
        {
         "code": ">>> p6_test.check(\"q2\", avg_price)\nTrue",
         "hidden": false,
         "locked": false
        }
       ],
       "scored": true,
       "setup": "",
       "teardown": "",
       "type": "doctest"
      }
     ]
    },
    "q20": {
     "name": "q20",
     "points": 5,
     "suites": [
      {
       "cases": [
        {
         "code": ">>> p6_test.check(\"q20\", min_cost_trip)\nTrue",
         "hidden": false,
         "locked": false
        }
       ],
       "scored": true,
       "setup": "",
       "teardown": "",
       "type": "doctest"
      }
     ]
    },
    "q3": {
     "name": "q3",
     "points": 5,
     "suites": [
      {
       "cases": [
        {
         "code": ">>> p6_test.check(\"q3\", count_soho)\nTrue",
         "hidden": false,
         "locked": false
        }
       ],
       "scored": true,
       "setup": "",
       "teardown": "",
       "type": "doctest"
      }
     ]
    },
    "q4": {
     "name": "q4",
     "points": 5,
     "suites": [
      {
       "cases": [
        {
         "code": ">>> p6_test.check(\"q4\", rooms_free_wifi)\nTrue",
         "hidden": false,
         "locked": false
        }
       ],
       "scored": true,
       "setup": "",
       "teardown": "",
       "type": "doctest"
      }
     ]
    },
    "q5": {
     "name": "q5",
     "points": 5,
     "suites": [
      {
       "cases": [
        {
         "code": ">>> p6_test.check(\"q5\", rooms_contain_cinema_film)\nTrue",
         "hidden": false,
         "locked": false
        }
       ],
       "scored": true,
       "setup": "",
       "teardown": "",
       "type": "doctest"
      }
     ]
    },
    "q6": {
     "name": "q6",
     "points": 5,
     "suites": [
      {
       "cases": [
        {
         "code": ">>> p6_test.check(\"q6\", funnest_room)\nTrue",
         "hidden": false,
         "locked": false
        }
       ],
       "scored": true,
       "setup": "",
       "teardown": "",
       "type": "doctest"
      }
     ]
    },
    "q7": {
     "name": "q7",
     "points": 5,
     "suites": [
      {
       "cases": [
        {
         "code": ">>> p6_test.check(\"q7\", no_cost_rooms)\nTrue",
         "hidden": false,
         "locked": false
        }
       ],
       "scored": true,
       "setup": "",
       "teardown": "",
       "type": "doctest"
      }
     ]
    },
    "q8": {
     "name": "q8",
     "points": 5,
     "suites": [
      {
       "cases": [
        {
         "code": ">>> p6_test.check(\"q8\", pricey_neighborhoods)\nTrue",
         "hidden": false,
         "locked": false
        }
       ],
       "scored": true,
       "setup": "",
       "teardown": "",
       "type": "doctest"
      }
     ]
    },
    "q9": {
     "name": "q9",
     "points": 5,
     "suites": [
      {
       "cases": [
        {
         "code": ">>> p6_test.check(\"q9\", last_review_before_2015)\nTrue",
         "hidden": false,
         "locked": false
        }
       ],
       "scored": true,
       "setup": "",
       "teardown": "",
       "type": "doctest"
      }
     ]
    }
   }
  }
 },
 "nbformat": 4,
 "nbformat_minor": 5
}
