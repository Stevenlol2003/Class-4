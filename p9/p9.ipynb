{
 "cells": [
  {
   "cell_type": "code",
   "execution_count": 1,
   "id": "bcbbd67d",
   "metadata": {
    "cell_type": "code",
    "deletable": false,
    "editable": false
   },
   "outputs": [],
   "source": [
    "import otter\n",
    "# nb_name should be the name of your notebook without the .ipynb extension\n",
    "nb_name = \"p9\"\n",
    "py_filename = nb_name + \".py\"\n",
    "grader = otter.Notebook(nb_name + \".ipynb\")"
   ]
  },
  {
   "cell_type": "code",
   "execution_count": 2,
   "id": "011fdac0",
   "metadata": {
    "deletable": false
   },
   "outputs": [],
   "source": [
    "import p9_test"
   ]
  },
  {
   "cell_type": "markdown",
   "id": "6bb55322",
   "metadata": {
    "deletable": false,
    "editable": false
   },
   "source": [
    "# Project 9: Analyzing the Movies"
   ]
  },
  {
   "cell_type": "markdown",
   "id": "2d9983d7",
   "metadata": {
    "deletable": false,
    "editable": false
   },
   "source": [
    "## Learning Objectives:\n",
    "\n",
    "In this project, you will demonstrate your ability to:\n",
    "- Use `matplotlib` to plot bar graphs and visualize statistics\n",
    "- Process data using dictionaries and lists that you build\n",
    "- Implement binning by writing algorithms that create dictionaries\n",
    "- Custom sort a list using the keyword parameter `key`'s argument.\n",
    "\n",
    "Please go through [Lab-P9](https://git.doit.wisc.edu/cdis/cs/courses/cs220/cs220-s23-projects/-/tree/main/lab-p9) before starting this project. The lab introduces some useful techniques necessary for this project."
   ]
  },
  {
   "cell_type": "markdown",
   "id": "a0ef4826",
   "metadata": {
    "deletable": false,
    "editable": false
   },
   "source": [
    "<h2 style=\"color:red\">Warning (Note on Academic Misconduct):</h2>\n",
    "\n",
    "**IMPORTANT**: P8 and P9 are two parts of the same data analysis. You **cannot** switch project partners between these two projects. That is if you partnered up with someone for P8, you have to work on P9 with the **same partner**. Now may be a good time to review [our course policies](https://cs220.cs.wisc.edu/s23/syllabus.html)."
   ]
  },
  {
   "cell_type": "markdown",
   "id": "c131656b",
   "metadata": {
    "deletable": false,
    "editable": false
   },
   "source": [
    "## Testing your code:\n",
    "\n",
    "Along with this notebook, you must have downloaded the file `p9_test.py`. If you are curious about how we test your code, you can explore this file, and specifically the value of the variable `expected_json`, to understand the expected answers to the questions.\n",
    "\n",
    "**Important:** `p9_test.py` **cannot** verify your answers when the output is an image. Your **plots** will be **checked** by the Gradescope autograder, so you must **manually** confirm that your plots look correct by comparing with the images provided in the notebook."
   ]
  },
  {
   "cell_type": "markdown",
   "id": "d62c0480",
   "metadata": {
    "deletable": false,
    "editable": false
   },
   "source": [
    "## Introduction:\n",
    "\n",
    "In P8, you created very useful helper functions to parse the raw IMDb dataset. You also created useful data structures to store the data. In this project, you will be building on the work you did in P8 to analyze your favorite movies. This is a shorter project than usual, and **P9 will only have 10 questions for you to solve**."
   ]
  },
  {
   "cell_type": "markdown",
   "id": "76bf6d87",
   "metadata": {
    "deletable": false,
    "editable": false
   },
   "source": [
    "## Data:\n",
    "\n",
    "In P9, you will be analyzing the same dataset that you worked with in P8. You may download the files fresh, or just copy/paste the datasets from your P8 directory."
   ]
  },
  {
   "cell_type": "markdown",
   "id": "f196024b",
   "metadata": {
    "deletable": false,
    "editable": false
   },
   "source": [
    "## Project Requirements:\n",
    "\n",
    "You **may not** hardcode indices or the lengths of lists in your code. We'll **manually deduct** points from your autograder score on Gradescope during code review.\n",
    "\n",
    "**Store** your final answer for each question in the **variable specified for each question**. This step is important because Otter grades your work by comparing the value of this variable against the correct answer.\n",
    "\n",
    "For some of the questions, we'll ask you to write (then use) a function to compute the answer. If you compute the answer **without** creating the function we ask you to write, the Gradescope autograder will **deduct** points from your public score, even if the way you did it produced the correct answer.\n",
    "\n",
    "Required Functions:\n",
    "- `bucketize`\n",
    "\n",
    "In this project, you will also be required to define certain **data structures**. If you do not create these data structures exactly as specified, we'll **deduct** points from your public score on Gradescope, even if the way you did it produced the correct answer for the questions.\n",
    "\n",
    "Required Data Structures:\n",
    "- `movies`\n",
    "- `cast_buckets`\n",
    "- `director_buckets`\n",
    "- `genre_buckets`\n",
    "- `year_buckets`\n",
    "\n",
    "You are only allowed to define these data structures **once** and we'll **deduct** points from your public score on Gradescope if you redefine the values of these variables.\n",
    "\n",
    "In this project, you will be asked to create **lists** of movies. For all such questions, **unless it is explicitly mentioned otherwise**, the movies should be in the **same order** as in the `movies.csv` file. Similarly, for each movie, the **list** of `genres`, `directors`, and `cast` members should always be in the **same order** as in the `movies.csv` file.\n",
    "\n",
    "Students are only allowed to use Python commands and concepts that have been taught in the course prior to the release of P9. We will **manually deduct** points from your autograder score on Gradescope otherwise.\n",
    "\n",
    "For more details on what will cause you to lose points during code review and specific requirements, please take a look at the [Grading rubric](https://git.doit.wisc.edu/cdis/cs/courses/cs220/cs220-s23-projects/-/blob/main/p9/rubric.md)."
   ]
  },
  {
   "cell_type": "markdown",
   "id": "2d2b6516",
   "metadata": {
    "deletable": false,
    "editable": false
   },
   "source": [
    "## Project Questions and Functions:"
   ]
  },
  {
   "cell_type": "code",
   "execution_count": 4,
   "id": "e82ea3f8",
   "metadata": {
    "tags": []
   },
   "outputs": [],
   "source": [
    "# it is considered a good coding practice to place all import statements at the top of the notebook\n",
    "# please place all your import statements in this cell if you need to import any more modules for this project\n",
    "import csv\n",
    "import matplotlib\n",
    "import pandas"
   ]
  },
  {
   "cell_type": "markdown",
   "id": "dc16a207",
   "metadata": {
    "deletable": false,
    "editable": false
   },
   "source": [
    "## Loading the Movies Data\n",
    "\n",
    "For all these questions, we will be looking at the movies in `mapping.csv` and `movies.csv`. You can load the list of movies using the functions you wrote in the last project."
   ]
  },
  {
   "cell_type": "markdown",
   "id": "20c21edf",
   "metadata": {
    "deletable": false,
    "editable": false
   },
   "source": [
    "Copy the functions you wrote in `p8.ipynb` to `p9.ipynb` to read the movies data. The functions you should include are `process_csv`, `get_mapping`, `get_raw_movies`, and `get_movies` along with any helper functions you used to write these. Do **not** copy/paste `find_specific_movies` here. Later in P9, we will provide you with a simpler version of that function, which does not require the use of the `copy` module."
   ]
  },
  {
   "cell_type": "code",
   "execution_count": 5,
   "id": "282f0a1b",
   "metadata": {
    "tags": []
   },
   "outputs": [],
   "source": [
    "# copy/paste the definition of process_csv from previous projects (p6 or p7)\n",
    "# copy/paste the definitions of get_mapping, get_raw_movies, get_movies from p8.ipynb\n",
    "# as well as any helper functions used by these functions here\n",
    "def process_csv(filename):\n",
    "    example_file = open(filename, encoding=\"utf-8\")\n",
    "    example_reader = csv.reader(example_file)\n",
    "    example_data = list(example_reader)\n",
    "    example_file.close()\n",
    "    return example_data\n",
    "\n",
    "def get_mapping(path):\n",
    "    \"\"\"\n",
    "    get_mapping(path) converts a mapping csv in 'path' \n",
    "    into a dict with keys as IDs and values as names\n",
    "    \"\"\"\n",
    "    csv_file = open(path, encoding=\"utf-8\")\n",
    "    csv_reader = csv.reader(csv_file)\n",
    "    csv_data = list(csv_reader)\n",
    "    csv_file.close()\n",
    "    data = dict()\n",
    "    for mapping in csv_data:\n",
    "        key = mapping[0]\n",
    "        value = mapping[1]\n",
    "        data[key] = value\n",
    "    return data\n",
    "\n",
    "def get_raw_movies(path):\n",
    "    \"\"\"\n",
    "    get_raw_movies(path) converts a movies csv in 'path' \n",
    "    into a list of dicts with column names as keys and\n",
    "    the corresponding type converted values as the values\n",
    "    \"\"\"\n",
    "    csv_file = open(path, encoding=\"utf-8\")\n",
    "    csv_reader = csv.reader(csv_file)\n",
    "    csv_data = list(csv_reader)\n",
    "    csv_file.close()\n",
    "    csv_header = csv_data[0]\n",
    "    csv_rows = csv_data[1:]\n",
    "    list_data = []\n",
    " \n",
    "    for index in range(len(csv_rows)):\n",
    "        movie_data = {}\n",
    "        movie_data[\"title\"] = csv_rows[index][csv_header.index(\"title\")]\n",
    "        movie_data[\"year\"] = int(csv_rows[index][csv_header.index(\"year\")])\n",
    "        movie_data[\"duration\"] = int(csv_rows[index][csv_header.index(\"duration\")])\n",
    "        genres = csv_rows[index][csv_header.index(\"genres\")]\n",
    "        movie_data[\"genres\"] = genres.split(\", \")\n",
    "        movie_data[\"rating\"] = float(csv_rows[index][csv_header.index(\"rating\")])\n",
    "        directors = csv_rows[index][csv_header.index(\"directors\")]\n",
    "        movie_data[\"directors\"] = directors.split(\", \")\n",
    "        cast = csv_rows[index][csv_header.index(\"cast\")]\n",
    "        movie_data[\"cast\"] = cast.split(\", \")\n",
    "        list_data.append(movie_data)\n",
    "\n",
    "    return list_data\n",
    "\n",
    "def get_movies(movies_path, mapping_path):\n",
    "    \"\"\"\n",
    "    get_movies(movies_path, mapping_path) converts a movies csv in 'movies_path' \n",
    "    into a list of dicts with column names as keys and the corresponding \n",
    "    type converted values as the values; then uses the mapping csv in 'mapping_path'\n",
    "    to replace the IDs of the titles, cast, and directors into actual names\n",
    "    \"\"\"\n",
    "    movies = get_raw_movies(movies_path)\n",
    "    mapping = get_mapping(mapping_path)\n",
    "    \n",
    "    for movie in movies:\n",
    "        movie['title'] = mapping.get(movie['title'], movie['title'])\n",
    "        movie['directors'] = [mapping.get(director, director) for director in movie['directors']]\n",
    "        movie['cast'] = [mapping.get(actor, actor) for actor in movie['cast']]\n",
    "        \n",
    "    return movies"
   ]
  },
  {
   "cell_type": "markdown",
   "id": "1f30995d",
   "metadata": {
    "deletable": false,
    "editable": false
   },
   "source": [
    "Now, you can use `get_movies` to read the data in `movies.csv` and `mapping.csv` as you did in P8."
   ]
  },
  {
   "cell_type": "code",
   "execution_count": 6,
   "id": "5473f9e8",
   "metadata": {
    "tags": []
   },
   "outputs": [],
   "source": [
    "# create a list of dictionaries named 'movies' to store the data in 'movies.csv' and 'mapping.csv' as in p8\n",
    "# do NOT display the value of this variable anywhere in this notebook\n",
    "movies = get_movies(\"movies.csv\", \"mapping.csv\")\n"
   ]
  },
  {
   "cell_type": "markdown",
   "id": "eafe714d",
   "metadata": {
    "deletable": false,
    "editable": false
   },
   "source": [
    "There should be *202416* **dictionaries** in the **list** `movies` and the first entry of `movies` should be a **dictionary** that looks as follows:\n",
    "\n",
    "```python\n",
    "{'title': 'Il ragioniere della mafia',\n",
    "  'year': 2013,\n",
    "  'duration': 75,\n",
    "  'genres': ['Action', 'Crime', 'Romance'],\n",
    "  'rating': 6.4,\n",
    "  'directors': ['Federico Rizzo'],\n",
    "  'cast': ['Lorenzo Flaherty',\n",
    "   'Tony Sperandeo',\n",
    "   'Ernesto Mahieux',\n",
    "   'Francesca Testasecca']}\n",
    "```\n",
    "\n",
    "**Warning:** At this stage, it is expected that the function `get_movies` works correctly, and that `movies` is defined as it was in P8. If not, your code will run into issues in P9. So, make sure that this function works properly before you start P9. You can do that by **inserting a new cell** in Jupyter below this cell and verifying that the size of your variable `movies`, and that the first **dictionary** in `movies` is as it should be.\n",
    "\n",
    "Also, just like in P8, delete any cells displaying the whole of `movies` data structure before turning in p9.ipynb."
   ]
  },
  {
   "cell_type": "markdown",
   "id": "83dd1675",
   "metadata": {
    "deletable": false,
    "editable": false
   },
   "source": [
    "Now, copy over the functions `plot_dict`, `median` and `year_to_decade` from Lab-P9."
   ]
  },
  {
   "cell_type": "code",
   "execution_count": 7,
   "id": "8bcf319b",
   "metadata": {
    "tags": []
   },
   "outputs": [],
   "source": [
    "# copy/paste the definitions of plot_dict, median, year_to_decade from \"Lab-P9\n",
    "# as well as any helper functions used by these functions here\n",
    "def plot_dict(d, label=\"Please Label Me!\"):\n",
    "    \"\"\"plot_dict(d, label) creates a bar plot using the \n",
    "    dictionary 'd' and labels the y-axis as 'label'\"\"\"\n",
    "    ax = pandas.Series(d).sort_index().plot.bar(color=\"black\", fontsize=16)\n",
    "    ax.set_ylabel(label, fontsize=16)\n",
    "    \n",
    "def median(items):\n",
    "    \"\"\"\n",
    "    median(items) returns the median of the list `items`\n",
    "    \"\"\"\n",
    "    sorted_list = sorted(items)\n",
    "    list_len = len(sorted_list)\n",
    "    if list_len % 2 == 1:\n",
    "        return sorted_list[int(list_len / 2)]\n",
    "    else:\n",
    "        first_middle = sorted_list[int(list_len / 2 - 1)]\n",
    "        second_middle = sorted_list[int(list_len / 2)]\n",
    "        return (first_middle + second_middle) / 2    \n",
    "    \n",
    "def year_to_decade(year):\n",
    "    if year % 10 == 0:\n",
    "        decade = str(year - 9) + ' to ' + str(year)\n",
    "    else:\n",
    "        first_year = year - (year % 10 - 1)\n",
    "        decade = str(first_year) + ' to ' + str(first_year + 9)\n",
    "    return decade    "
   ]
  },
  {
   "cell_type": "markdown",
   "id": "1fc15e7f",
   "metadata": {
    "deletable": false,
    "editable": false
   },
   "source": [
    "In P8, you were provided with a function `find_specific_movies` which functioned as some sort of a 'search bar' for the movies dataset. However, in order to use that function properly, you had to use the `copy` module to pass a *copy* of your list of movies to `find_specific_movies`. Making copies frequently is **not** a good coding practice. For this project, we will provide **a new version** of `find_specific_movies` that does **not** require using `copy`. Please go through the following function:"
   ]
  },
  {
   "cell_type": "code",
   "execution_count": 8,
   "id": "f0619c17",
   "metadata": {},
   "outputs": [],
   "source": [
    "# modified find_specific_movies (doesn't require using copy module)\n",
    "def find_specific_movies(movies, keyword):\n",
    "    \"\"\"\n",
    "    find_specific_movies(movies, keyword) takes a list of movie dictionaries \n",
    "    and a keyword; it returns a list of movies that contain the keyword\n",
    "    in either its title, genre, cast or directors.\n",
    "    \"\"\"\n",
    "    movies_with_keyword = []\n",
    "    for movie in movies:\n",
    "        if (keyword in movie['title']) or (keyword in movie['genres']) \\\n",
    "            or (keyword in movie['directors']) or (keyword in movie['cast']):\n",
    "            movies_with_keyword.append(movie)\n",
    "    return movies_with_keyword"
   ]
  },
  {
   "cell_type": "markdown",
   "id": "01480934",
   "metadata": {
    "deletable": false,
    "editable": false
   },
   "source": [
    "**Important:** **Even when you are not explicitly prompted to do so, using the `find_specific_movies` function cleverly can simplify your code significantly. Keep an eye out for how you can simplify your code by making use of `find_specific_movies`.**"
   ]
  },
  {
   "cell_type": "markdown",
   "id": "1b857484",
   "metadata": {
    "deletable": false,
    "editable": false
   },
   "source": [
    "### Analyzing the Movies data"
   ]
  },
  {
   "cell_type": "markdown",
   "id": "7d1ee692",
   "metadata": {
    "deletable": false,
    "editable": false
   },
   "source": [
    "**Question 1:** What is the **median** `rating` of the *Star Wars* movies directed by *George Lucas*?\n",
    "\n",
    "You **must** make multiple calls to the `find_specific_movies` function to identify the movies which have *Star Wars* as a substring of the `title` **and** also have *George Lucas* as one of the `directors`."
   ]
  },
  {
   "cell_type": "code",
   "execution_count": 9,
   "id": "a94ff117",
   "metadata": {
    "tags": []
   },
   "outputs": [
    {
     "data": {
      "text/plain": [
       "7.1"
      ]
     },
     "execution_count": 9,
     "metadata": {},
     "output_type": "execute_result"
    }
   ],
   "source": [
    "# compute and store the answer in the variable 'median_sw_rating', then display it\n",
    "find1 = find_specific_movies(movies, \"Star Wars\")\n",
    "find2 = find_specific_movies(movies, \"George Lucas\")\n",
    "sw_ratings = []\n",
    "for index in range(len(find1)):\n",
    "    for idx in range(len(find2)):\n",
    "        if find1[index] == find2[idx]:\n",
    "            sw_ratings.append(find1[index][\"rating\"])\n",
    "            \n",
    "median_sw_rating = median(sw_ratings)\n",
    "median_sw_rating"
   ]
  },
  {
   "cell_type": "code",
   "execution_count": 10,
   "id": "ef01d3da",
   "metadata": {
    "deletable": false,
    "editable": false
   },
   "outputs": [
    {
     "data": {
      "text/html": [
       "<p><strong><pre style='display: inline;'>q1</pre></strong> passed! 💯</p>"
      ],
      "text/plain": [
       "q1 results: All test cases passed!"
      ]
     },
     "execution_count": 10,
     "metadata": {},
     "output_type": "execute_result"
    }
   ],
   "source": [
    "grader.check(\"q1\")"
   ]
  },
  {
   "cell_type": "markdown",
   "id": "e9c86f5a",
   "metadata": {
    "deletable": false,
    "editable": false
   },
   "source": [
    "**Question 2:** Among all the *Spider-Man* movies, which ones are the **highest** rated?\n",
    "\n",
    "Your output **must** be a **list** of **dictionaries**. You **must** use `find_specific_movies` to identify all movies which have *Spider-Man* as a substring of their `title`.\n",
    "\n",
    "**Hint:** You could first find the **highest** `rating` that any *Spider-Man* movie received, and then find all the *Spider-Man* movies that received that `rating`."
   ]
  },
  {
   "cell_type": "code",
   "execution_count": 11,
   "id": "dba36f62",
   "metadata": {
    "tags": []
   },
   "outputs": [
    {
     "data": {
      "text/plain": [
       "[{'title': 'Spider-Man: Into the Spider-Verse',\n",
       "  'year': 2018,\n",
       "  'duration': 117,\n",
       "  'genres': ['Action', 'Adventure', 'Animation'],\n",
       "  'rating': 8.4,\n",
       "  'directors': ['Bob Persichetti', 'Peter Ramsey', 'Rodney Rothman'],\n",
       "  'cast': ['Shameik Moore',\n",
       "   'Jake Johnson',\n",
       "   'Hailee Steinfeld',\n",
       "   'Mahershala Ali']},\n",
       " {'title': 'Spider-Man Venom Saga',\n",
       "  'year': 2005,\n",
       "  'duration': 100,\n",
       "  'genres': ['Animation'],\n",
       "  'rating': 8.4,\n",
       "  'directors': ['Bob Richardson'],\n",
       "  'cast': ['James Avery',\n",
       "   'Sara Ballantine',\n",
       "   'John Beard',\n",
       "   'Roscoe Lee Browne']}]"
      ]
     },
     "execution_count": 11,
     "metadata": {},
     "output_type": "execute_result"
    }
   ],
   "source": [
    "# compute and store the answer in the variable 'highest_rated_spider_man_movies', then display it\n",
    "highest_rating = 0\n",
    "highest_rated_spider_man_movies = []\n",
    "find1 = find_specific_movies(movies, \"Spider-Man\")\n",
    "for index in range(len(find1)):\n",
    "    if find1[index][\"rating\"] > highest_rating:\n",
    "        highest_rating = find1[index][\"rating\"]\n",
    "\n",
    "for index in range(len(find1)):\n",
    "    if find1[index][\"rating\"] == highest_rating:\n",
    "        highest_rated_spider_man_movies.append(find1[index])\n",
    "        \n",
    "highest_rated_spider_man_movies        "
   ]
  },
  {
   "cell_type": "code",
   "execution_count": 12,
   "id": "172f67ae",
   "metadata": {
    "deletable": false,
    "editable": false
   },
   "outputs": [
    {
     "data": {
      "text/html": [
       "<p><strong><pre style='display: inline;'>q2</pre></strong> passed! 🎉</p>"
      ],
      "text/plain": [
       "q2 results: All test cases passed!"
      ]
     },
     "execution_count": 12,
     "metadata": {},
     "output_type": "execute_result"
    }
   ],
   "source": [
    "grader.check(\"q2\")"
   ]
  },
  {
   "cell_type": "markdown",
   "id": "6a97233b",
   "metadata": {
    "deletable": false,
    "editable": false
   },
   "source": [
    "### Function 1: `bucketize(movies_list, category)` \n",
    "\n",
    "This function should take in a **list** of movie **dictionaries** as well as a **category** (i.e. `title`, `year`, `duration`, `genres`, `rating`, `directors`, or `cast`), and *bucketize* the **list** of movie **dictionaries** by this **category**.\n",
    "\n",
    "For example, the output of `bucketize(movies, 'rating')` should be a **dictionary** so that all the unique values of `rating` of the movies in `movies` are the **keys** and the correspoding **values** would be a **list** of all movie **dictionaries** with that rating (e.g., the value of the key *6.4* should be the **list** of movie dictionaries with `rating` of *6.4*).\n",
    "\n",
    "The output of `bucketize(movies, 'rating')` should look like this:\n",
    "\n",
    "```python\n",
    "{6.4: [{'title': 'Il ragioniere della mafia',\n",
    "   'year': 2013,\n",
    "   'duration': 75,\n",
    "   'genres': ['Action', 'Crime', 'Romance'],\n",
    "   'rating': 6.4,\n",
    "   'directors': ['Federico Rizzo'],\n",
    "   'cast': ['Lorenzo Flaherty',\n",
    "    'Tony Sperandeo',\n",
    "    'Ernesto Mahieux',\n",
    "    'Francesca Testasecca']},\n",
    "  {'title': 'Os Toiros de Mary Foster',\n",
    "   'year': 1972,\n",
    "   'duration': 110,\n",
    "   'genres': ['Drama'],\n",
    "   'rating': 6.4,\n",
    "   'directors': ['Henrique Campos'],\n",
    "   'cast': ['Catarina Avelar',\n",
    "    'António Montez',\n",
    "    'Anne Butler',\n",
    "    'Amílcar Botica',\n",
    "    'Helena Isabel']},\n",
    "       ...\n",
    "      ],\n",
    "}\n",
    "```\n",
    "\n",
    "Similarly, the output of `bucketize(movies, 'cast')` should be a **dictionary** so that all the unique `cast` members of the movies in `movies` are the **keys** and the correspoding **values** would be a **list** of all movie **dictionaries** with that cast member as one of their `cast` (e.g., the value of the key *Kate Winslet* should be the **list** of movie dictionaries with *Kate Winslet* as one of their `cast` members).\n",
    "\n",
    "The output of `bucketize(movies, 'cast')` should look like this:\n",
    "\n",
    "```python\n",
    "{'Lorenzo Flaherty': [{'title': 'Il ragioniere della mafia',\n",
    "   'year': 2013,\n",
    "   'duration': 75,\n",
    "   'genres': ['Action', 'Crime', 'Romance'],\n",
    "   'rating': 6.4,\n",
    "   'directors': ['Federico Rizzo'],\n",
    "   'cast': ['Lorenzo Flaherty',\n",
    "    'Tony Sperandeo',\n",
    "    'Ernesto Mahieux',\n",
    "    'Francesca Testasecca']},\n",
    "  {'title': 'Voices from Beyond',\n",
    "   'year': 1994,\n",
    "   'duration': 91,\n",
    "   'genres': ['Horror', 'Mystery', 'Thriller'],\n",
    "   'rating': 5.0,\n",
    "   'directors': ['Lucio Fulci'],\n",
    "   'cast': ['Duilio Del Prete',\n",
    "    'Karina Huff',\n",
    "    'Pascal Persiano',\n",
    "    'Lorenzo Flaherty']},\n",
    "  {'title': 'Bologna due agosto: I giorni della collera',\n",
    "   'year': 2014,\n",
    "   'duration': 99,\n",
    "   'genres': ['Drama'],\n",
    "   'rating': 6.7,\n",
    "   'directors': ['Giorgio Molteni', 'Daniele Santamaria Maurizio'],\n",
    "   'cast': ['Marika Frassino',\n",
    "    'Giuseppe Maggio',\n",
    "    'Lorenzo Flaherty',\n",
    "    'Martina Colombari']},\n",
    "     ...],\n",
    " 'Tony Sperandeo': [{'title': 'Il ragioniere della mafia',\n",
    "   'year': 2013,\n",
    "   'duration': 75,\n",
    "   'genres': ['Action', 'Crime', 'Romance'],\n",
    "   'rating': 6.4,\n",
    "   'directors': ['Federico Rizzo'],\n",
    "   'cast': ['Lorenzo Flaherty',\n",
    "    'Tony Sperandeo',\n",
    "    'Ernesto Mahieux',\n",
    "    'Francesca Testasecca']},\n",
    "    ...],\n",
    " ...\n",
    "} \n",
    "```\n",
    "\n",
    "**Hints:** Note that depending on whether or not the `category` represents a **list** or not, your function will have to behave differently. In P8, you created a function `bucketize_by_genre` that *bucketized* the list of movies by their genre. Take a moment to find that function; it will help you here. Also, take a moment to look at the buckets you made in Lab-P9."
   ]
  },
  {
   "cell_type": "code",
   "execution_count": 13,
   "id": "2429da32",
   "metadata": {
    "tags": []
   },
   "outputs": [],
   "source": [
    "# replace the ... with your code to finish the definition of bucketize\n",
    "\n",
    "def bucketize(movie_list, category):\n",
    "    buckets = {}\n",
    "    for movie in movie_list:\n",
    "        category_value = movie[category]\n",
    "        if type(category_value) == list:\n",
    "            for value in category_value:\n",
    "                if value not in buckets:\n",
    "                    buckets[value] = []\n",
    "                buckets[value].append(movie)\n",
    "        else:\n",
    "            if category_value not in buckets:\n",
    "                buckets[category_value] = []\n",
    "            buckets[category_value].append(movie)\n",
    "    return buckets"
   ]
  },
  {
   "cell_type": "markdown",
   "id": "186ca2ec",
   "metadata": {
    "deletable": false,
    "editable": false
   },
   "source": [
    "**Important:** Just like `get_movies`, `bucketize` is quite a time-consuming function to run. Hence, you do **not** want to call `bucketize` on the same list of movies and category **more than once**. Throughout the project, we will frequently use bucketized lists of movies organized by their `cast`, `directors`, `genre`, and `year`. Rather than calling `bucketize` several times, we will store the bucketized lists in the following variables:"
   ]
  },
  {
   "cell_type": "code",
   "execution_count": 14,
   "id": "8b602dc2",
   "metadata": {
    "tags": []
   },
   "outputs": [],
   "source": [
    "# define buckets for categories mentioned below, but do NOT display any of them\n",
    "\n",
    "# bucketize the full list of movies by their cast.\n",
    "cast_buckets = bucketize(movies, \"cast\")\n",
    "# bucketize the full list of movies by their directors.\n",
    "director_buckets = bucketize(movies, \"directors\")\n",
    "# bucketize the full list of movies by their genre.\n",
    "genre_buckets = bucketize(movies, \"genres\")\n",
    "# bucketize the full list of movies by their year.\n",
    "year_buckets = bucketize(movies, \"year\")\n"
   ]
  },
  {
   "cell_type": "markdown",
   "id": "508d4aac",
   "metadata": {
    "deletable": false,
    "editable": false
   },
   "source": [
    "Even when you are not explicitly prompted to do so, using these data structures and the `bucketize` function cleverly can simplify your code significantly. Keep an eye out for how you can simplify your code by making use of these data structures and the `bucketize` function.\n",
    "\n",
    "Remember, you can still use the `bucketize` function on a subset of the `movies` data structure (i.e. not the whole `movies` dataset). You are **not** limited to only using the variables defined above."
   ]
  },
  {
   "cell_type": "markdown",
   "id": "4fbf1fc2",
   "metadata": {
    "deletable": false,
    "editable": false
   },
   "source": [
    "**Question 3:** List the movies that *Michelle Yeoh* was `cast` in?\n",
    "\n",
    "Your output **must** be a **list** of **dictionaries**. You **must** answer this question by accessing the **value** of the correct **key** from the correct **bucket** defined in the previous cell."
   ]
  },
  {
   "cell_type": "code",
   "execution_count": 15,
   "id": "09185f0a",
   "metadata": {
    "tags": []
   },
   "outputs": [
    {
     "data": {
      "text/plain": [
       "[{'title': 'Crouching Tiger, Hidden Dragon',\n",
       "  'year': 2000,\n",
       "  'duration': 120,\n",
       "  'genres': ['Action', 'Adventure', 'Drama'],\n",
       "  'rating': 7.9,\n",
       "  'directors': ['Ang Lee'],\n",
       "  'cast': ['Chow Yun-Fat', 'Michelle Yeoh', 'Ziyi Zhang', 'Chang Chen']},\n",
       " {'title': 'Babylon A.D.',\n",
       "  'year': 2008,\n",
       "  'duration': 90,\n",
       "  'genres': ['Action', 'Adventure', 'Sci-Fi'],\n",
       "  'rating': 5.5,\n",
       "  'directors': ['Mathieu Kassovitz'],\n",
       "  'cast': ['Vin Diesel',\n",
       "   'Michelle Yeoh',\n",
       "   'Mélanie Thierry',\n",
       "   'Gérard Depardieu']},\n",
       " {'title': 'Wing Chun',\n",
       "  'year': 1994,\n",
       "  'duration': 96,\n",
       "  'genres': ['Action', 'Comedy', 'Drama'],\n",
       "  'rating': 7.0,\n",
       "  'directors': ['Woo-Ping Yuen'],\n",
       "  'cast': ['Michelle Yeoh',\n",
       "   'Donnie Yen',\n",
       "   'King-Tan Yuen',\n",
       "   'Catherine Yan Hung']},\n",
       " {'title': 'Crouching Tiger, Hidden Dragon: Sword of Destiny',\n",
       "  'year': 2016,\n",
       "  'duration': 96,\n",
       "  'genres': ['Action', 'Adventure', 'Drama'],\n",
       "  'rating': 6.1,\n",
       "  'directors': ['Woo-Ping Yuen'],\n",
       "  'cast': ['Donnie Yen',\n",
       "   'Michelle Yeoh',\n",
       "   'Harry Shum Jr.',\n",
       "   'Natasha Liu Bordizzo']},\n",
       " {'title': 'Tai Chi Master',\n",
       "  'year': 1993,\n",
       "  'duration': 96,\n",
       "  'genres': ['Action', 'Comedy', 'Drama'],\n",
       "  'rating': 7.2,\n",
       "  'directors': ['Woo-Ping Yuen'],\n",
       "  'cast': ['Jet Li', 'Michelle Yeoh', 'Fennie Yuen']},\n",
       " {'title': 'Tomorrow Never Dies',\n",
       "  'year': 1997,\n",
       "  'duration': 119,\n",
       "  'genres': ['Action', 'Adventure', 'Thriller'],\n",
       "  'rating': 6.5,\n",
       "  'directors': ['Roger Spottiswoode'],\n",
       "  'cast': ['Pierce Brosnan',\n",
       "   'Jonathan Pryce',\n",
       "   'Michelle Yeoh',\n",
       "   'Teri Hatcher']},\n",
       " {'title': 'Gunpowder Milkshake',\n",
       "  'year': 2021,\n",
       "  'duration': 114,\n",
       "  'genres': ['Action', 'Crime', 'Thriller'],\n",
       "  'rating': 6.0,\n",
       "  'directors': ['Navot Papushado'],\n",
       "  'cast': ['Karen Gillan', 'Lena Headey', 'Carla Gugino', 'Michelle Yeoh']},\n",
       " {'title': 'The Soong Sisters',\n",
       "  'year': 1997,\n",
       "  'duration': 145,\n",
       "  'genres': ['Drama', 'History', 'Romance'],\n",
       "  'rating': 7.0,\n",
       "  'directors': ['Mabel Cheung'],\n",
       "  'cast': ['Maggie Cheung', 'Michelle Yeoh', 'Vivian Wu', 'Winston Chao']},\n",
       " {'title': 'Dynamite Fighters',\n",
       "  'year': 1987,\n",
       "  'duration': 91,\n",
       "  'genres': ['Action', 'Drama'],\n",
       "  'rating': 6.4,\n",
       "  'directors': ['David Chung'],\n",
       "  'cast': ['Michelle Yeoh', 'Richard Ng', 'Tung-Shing Yee', 'Lowell Lo']},\n",
       " {'title': 'Boss Level',\n",
       "  'year': 2020,\n",
       "  'duration': 100,\n",
       "  'genres': ['Action', 'Adventure', 'Comedy'],\n",
       "  'rating': 6.8,\n",
       "  'directors': ['Joe Carnahan'],\n",
       "  'cast': ['Frank Grillo', 'Mel Gibson', 'Naomi Watts', 'Michelle Yeoh']},\n",
       " {'title': 'The Mummy: Tomb of the Dragon Emperor',\n",
       "  'year': 2008,\n",
       "  'duration': 112,\n",
       "  'genres': ['Action', 'Adventure', 'Fantasy'],\n",
       "  'rating': 5.2,\n",
       "  'directors': ['Rob Cohen'],\n",
       "  'cast': ['Brendan Fraser', 'Jet Li', 'Maria Bello', 'Michelle Yeoh']},\n",
       " {'title': 'Far North',\n",
       "  'year': 2007,\n",
       "  'duration': 89,\n",
       "  'genres': ['Crime', 'Drama', 'Romance'],\n",
       "  'rating': 6.1,\n",
       "  'directors': ['Asif Kapadia'],\n",
       "  'cast': ['Michelle Yeoh', 'Michelle Krusiec', 'Sean Bean', 'Gary Pillai']},\n",
       " {'title': 'Master Z: The Ip Man Legacy',\n",
       "  'year': 2018,\n",
       "  'duration': 107,\n",
       "  'genres': ['Action', 'Biography', 'Crime'],\n",
       "  'rating': 6.5,\n",
       "  'directors': ['Woo-Ping Yuen'],\n",
       "  'cast': ['Jin Zhang', 'Dave Bautista', 'Michelle Yeoh', 'Tony Jaa']},\n",
       " {'title': 'Silver Hawk',\n",
       "  'year': 2004,\n",
       "  'duration': 99,\n",
       "  'genres': ['Action', 'Adventure', 'Sci-Fi'],\n",
       "  'rating': 5.0,\n",
       "  'directors': ['Jingle Ma'],\n",
       "  'cast': ['Michelle Yeoh', 'Kôichi Iwaki', 'Brandon Chang', 'Luke Goss']},\n",
       " {'title': 'The Heroic Trio',\n",
       "  'year': 1993,\n",
       "  'duration': 88,\n",
       "  'genres': ['Action', 'Fantasy', 'Thriller'],\n",
       "  'rating': 6.5,\n",
       "  'directors': ['Johnnie To'],\n",
       "  'cast': ['Michelle Yeoh', 'Anita Mui', 'Maggie Cheung', 'Damian Lau']},\n",
       " {'title': 'Easy Money',\n",
       "  'year': 1987,\n",
       "  'duration': 92,\n",
       "  'genres': ['Action', 'Crime', 'Thriller'],\n",
       "  'rating': 5.1,\n",
       "  'directors': ['Stephen Shin'],\n",
       "  'cast': ['George Lam', 'Michelle Yeoh', 'Kent Cheng', 'Feng Ku']},\n",
       " {'title': 'Crazy Rich Asians',\n",
       "  'year': 2018,\n",
       "  'duration': 120,\n",
       "  'genres': ['Comedy', 'Drama', 'Romance'],\n",
       "  'rating': 6.9,\n",
       "  'directors': ['Jon M. Chu'],\n",
       "  'cast': ['Constance Wu', 'Henry Golding', 'Michelle Yeoh', 'Gemma Chan']},\n",
       " {'title': 'The Stunt Woman',\n",
       "  'year': 1996,\n",
       "  'duration': 95,\n",
       "  'genres': ['Action', 'Drama'],\n",
       "  'rating': 6.1,\n",
       "  'directors': ['Ann Hui'],\n",
       "  'cast': ['Michelle Yeoh', 'Sammo Kam-Bo Hung', 'Ken Lo', 'Hoi Mang']},\n",
       " {'title': 'Mechanic: Resurrection',\n",
       "  'year': 2016,\n",
       "  'duration': 98,\n",
       "  'genres': ['Action', 'Adventure', 'Crime'],\n",
       "  'rating': 5.7,\n",
       "  'directors': ['Dennis Gansel'],\n",
       "  'cast': ['Jason Statham',\n",
       "   'Jessica Alba',\n",
       "   'Tommy Lee Jones',\n",
       "   'Michelle Yeoh']},\n",
       " {'title': 'The Children of Huang Shi',\n",
       "  'year': 2008,\n",
       "  'duration': 125,\n",
       "  'genres': ['Drama', 'War'],\n",
       "  'rating': 7.0,\n",
       "  'directors': ['Roger Spottiswoode'],\n",
       "  'cast': ['Jonathan Rhys Meyers',\n",
       "   'Radha Mitchell',\n",
       "   'Chow Yun-Fat',\n",
       "   'Michelle Yeoh']},\n",
       " {'title': 'Supercop',\n",
       "  'year': 1992,\n",
       "  'duration': 96,\n",
       "  'genres': ['Action', 'Comedy', 'Crime'],\n",
       "  'rating': 6.9,\n",
       "  'directors': ['Stanley Tong'],\n",
       "  'cast': ['Jackie Chan', 'Michelle Yeoh', 'Maggie Cheung', 'Kenneth Tsang']},\n",
       " {'title': 'Final Recipe',\n",
       "  'year': 2013,\n",
       "  'duration': 97,\n",
       "  'genres': ['Drama'],\n",
       "  'rating': 6.7,\n",
       "  'directors': ['Gina Kim'],\n",
       "  'cast': ['Markus Waldow', 'Michelle Yeoh', 'Henry Lau', 'Chin Han']},\n",
       " {'title': 'Reign of Assassins',\n",
       "  'year': 2010,\n",
       "  'duration': 117,\n",
       "  'genres': ['Action', 'Adventure'],\n",
       "  'rating': 6.8,\n",
       "  'directors': ['Chao-Bin Su', 'John Woo'],\n",
       "  'cast': ['Michelle Yeoh', 'Jung Woo-sung', 'Xueqi Wang', 'Barbie Hsu']},\n",
       " {'title': 'Everything Everywhere All at Once',\n",
       "  'year': 2022,\n",
       "  'duration': 139,\n",
       "  'genres': ['Action', 'Adventure', 'Comedy'],\n",
       "  'rating': 8.0,\n",
       "  'directors': ['Dan Kwan', 'Daniel Scheinert'],\n",
       "  'cast': ['Michelle Yeoh',\n",
       "   'Stephanie Hsu',\n",
       "   'Jamie Lee Curtis',\n",
       "   'Ke Huy Quan']},\n",
       " {'title': 'Yes, Madam!',\n",
       "  'year': 1985,\n",
       "  'duration': 93,\n",
       "  'genres': ['Action', 'Comedy', 'Crime'],\n",
       "  'rating': 6.6,\n",
       "  'directors': ['Corey Yuen'],\n",
       "  'cast': ['Michelle Yeoh', 'Cynthia Rothrock', 'John Sham', 'Hoi Mang']},\n",
       " {'title': 'Supercop 2',\n",
       "  'year': 1993,\n",
       "  'duration': 104,\n",
       "  'genres': ['Action', 'Comedy', 'Crime'],\n",
       "  'rating': 6.1,\n",
       "  'directors': ['Stanley Tong'],\n",
       "  'cast': ['Michelle Yeoh', 'Rongguang Yu', 'Emil Chau', 'Athena Chu']},\n",
       " {'title': 'Memoirs of a Geisha',\n",
       "  'year': 2005,\n",
       "  'duration': 145,\n",
       "  'genres': ['Drama', 'Romance'],\n",
       "  'rating': 7.3,\n",
       "  'directors': ['Rob Marshall'],\n",
       "  'cast': ['Ziyi Zhang', 'Ken Watanabe', 'Michelle Yeoh', 'Suzuka Ohgo']},\n",
       " {'title': 'Heroic Trio 2: Executioners',\n",
       "  'year': 1993,\n",
       "  'duration': 101,\n",
       "  'genres': ['Action', 'Sci-Fi', 'Thriller'],\n",
       "  'rating': 5.8,\n",
       "  'directors': ['Siu-Tung Ching', 'Johnnie To'],\n",
       "  'cast': ['Maggie Cheung', 'Michelle Yeoh', 'Anita Mui', 'Damian Lau']},\n",
       " {'title': 'The Touch',\n",
       "  'year': 2002,\n",
       "  'duration': 103,\n",
       "  'genres': ['Action', 'Adventure', 'Romance'],\n",
       "  'rating': 4.6,\n",
       "  'directors': ['Peter Pau'],\n",
       "  'cast': ['Michelle Yeoh', 'Ben Chaplin', 'Richard Roxburgh', 'Sihung Lung']},\n",
       " {'title': 'Royal Warriors',\n",
       "  'year': 1986,\n",
       "  'duration': 96,\n",
       "  'genres': ['Action', 'Drama'],\n",
       "  'rating': 6.8,\n",
       "  'directors': ['David Chung'],\n",
       "  'cast': ['Michelle Yeoh', 'Michael Wong', 'Hiroyuki Sanada', 'Ying Bai']},\n",
       " {'title': 'Butterfly and Sword',\n",
       "  'year': 1993,\n",
       "  'duration': 88,\n",
       "  'genres': ['Action', 'Adventure', 'Fantasy'],\n",
       "  'rating': 5.9,\n",
       "  'directors': ['Michael Mak'],\n",
       "  'cast': ['Tony Chiu-Wai Leung', 'Michelle Yeoh', 'Joey Wang', 'Elvis Tsui']},\n",
       " {'title': 'The Lady',\n",
       "  'year': 2011,\n",
       "  'duration': 132,\n",
       "  'genres': ['Biography', 'Drama', 'History'],\n",
       "  'rating': 7.0,\n",
       "  'directors': ['Luc Besson'],\n",
       "  'cast': ['Michelle Yeoh',\n",
       "   'David Thewlis',\n",
       "   'Jonathan Raggett',\n",
       "   'Jonathan Woodhouse']},\n",
       " {'title': 'Wonder Seven',\n",
       "  'year': 1994,\n",
       "  'duration': 90,\n",
       "  'genres': ['Action'],\n",
       "  'rating': 5.4,\n",
       "  'directors': ['Siu-Tung Ching'],\n",
       "  'cast': ['Michelle Yeoh', 'Ning Li', 'Andy Chi-On Hui', 'Kent Cheng']},\n",
       " {'title': 'Holy Weapon',\n",
       "  'year': 1993,\n",
       "  'duration': 98,\n",
       "  'genres': ['Action', 'Comedy', 'Fantasy'],\n",
       "  'rating': 5.8,\n",
       "  'directors': ['Jing Wong', 'Dennis Chan'],\n",
       "  'cast': ['Michelle Yeoh',\n",
       "   \"Carol 'Do Do' Cheng\",\n",
       "   'Maggie Cheung',\n",
       "   'Sandra Kwan Yue Ng']}]"
      ]
     },
     "execution_count": 15,
     "metadata": {},
     "output_type": "execute_result"
    }
   ],
   "source": [
    "# compute and store the answer in the variable 'yeoh_movies', then display it\n",
    "yeoh_movies = cast_buckets[\"Michelle Yeoh\"]\n",
    "\n",
    "yeoh_movies"
   ]
  },
  {
   "cell_type": "code",
   "execution_count": 16,
   "id": "03cba6ed",
   "metadata": {
    "deletable": false,
    "editable": false
   },
   "outputs": [
    {
     "data": {
      "text/html": [
       "<p><strong><pre style='display: inline;'>q3</pre></strong> passed! ✨</p>"
      ],
      "text/plain": [
       "q3 results: All test cases passed!"
      ]
     },
     "execution_count": 16,
     "metadata": {},
     "output_type": "execute_result"
    }
   ],
   "source": [
    "grader.check(\"q3\")"
   ]
  },
  {
   "cell_type": "markdown",
   "id": "ccfbb498",
   "metadata": {
    "deletable": false,
    "editable": false
   },
   "source": [
    "**Question 4:** **Plot** the **number** of movies in each *genre* as a **bar graph**.\n",
    "\n",
    "You **must** first compute a **dictionary** which maps each **genre** to the **number** of movies in that **genre**."
   ]
  },
  {
   "cell_type": "code",
   "execution_count": 17,
   "id": "8ed0d76a",
   "metadata": {
    "tags": []
   },
   "outputs": [
    {
     "data": {
      "text/plain": [
       "{'Action': 23975,\n",
       " 'Crime': 21265,\n",
       " 'Romance': 27456,\n",
       " 'Comedy': 58377,\n",
       " 'Drama': 108544,\n",
       " 'Documentary': 10366,\n",
       " 'Music': 4845,\n",
       " 'Mystery': 9707,\n",
       " 'Adventure': 14929,\n",
       " 'Animation': 3856,\n",
       " 'Family': 9142,\n",
       " 'Western': 4591,\n",
       " 'Thriller': 20583,\n",
       " 'Sci-Fi': 5764,\n",
       " 'Biography': 5065,\n",
       " 'History': 5272,\n",
       " 'Fantasy': 7221,\n",
       " 'Horror': 16971,\n",
       " 'Musical': 5264,\n",
       " 'War': 4900,\n",
       " 'Sport': 2190,\n",
       " 'Film-Noir': 856,\n",
       " 'News': 153,\n",
       " 'Reality-TV': 17,\n",
       " 'Short': 11,\n",
       " 'Talk-Show': 1}"
      ]
     },
     "execution_count": 17,
     "metadata": {},
     "output_type": "execute_result"
    }
   ],
   "source": [
    "# first compute and store the dictionary in the variable 'genre_num', then display it\n",
    "# do NOT plot just yet\n",
    "genre_num = {}\n",
    "\n",
    "for genre in genre_buckets:\n",
    "    genre_num[genre] = len(genre_buckets[genre])\n",
    "    \n",
    "genre_num    "
   ]
  },
  {
   "cell_type": "code",
   "execution_count": 18,
   "id": "a4a0e828",
   "metadata": {
    "deletable": false,
    "editable": false
   },
   "outputs": [
    {
     "data": {
      "text/html": [
       "<p><strong><pre style='display: inline;'>q4</pre></strong> passed! 🌈</p>"
      ],
      "text/plain": [
       "q4 results: All test cases passed!"
      ]
     },
     "execution_count": 18,
     "metadata": {},
     "output_type": "execute_result"
    }
   ],
   "source": [
    "grader.check(\"q4\")"
   ]
  },
  {
   "cell_type": "markdown",
   "id": "a46714b1",
   "metadata": {
    "deletable": false,
    "editable": false
   },
   "source": [
    "Now, **plot** `genre_num` as a **bar graph**.\n",
    "\n",
    "**Important Warning:** `p9_test.py` can only check that the **dictionary** has the correct key/value pairs, but it **cannot** check if your plot appears on the screen, or whether the axes are correctly labelled. The Gradescope autograder will deduct points if your plot is not visible in the **cell below**, or if it is not properly labelled.\n",
    "\n",
    "Your plot should look like this:"
   ]
  },
  {
   "cell_type": "markdown",
   "id": "94987b51",
   "metadata": {},
   "source": [
    "<div><img src=\"attachment:genre_num.png\" width=\"400\"/></div>"
   ]
  },
  {
   "cell_type": "code",
   "execution_count": 19,
   "id": "d87a0e61",
   "metadata": {
    "tags": []
   },
   "outputs": [
    {
     "data": {
      "image/png": "[encoded data removed]",
      "text/plain": [
       "<Figure size 640x480 with 1 Axes>"
      ]
     },
     "metadata": {},
     "output_type": "display_data"
    }
   ],
   "source": [
    "# plot 'genre_num' with the y-axis labelled 'number of movies'\n",
    "plot_dict(genre_num, \"number of movies\")"
   ]
  },
  {
   "cell_type": "markdown",
   "id": "daa4b97d",
   "metadata": {
    "deletable": false,
    "editable": false
   },
   "source": [
    "**Food for thought:** Can you tell what the most popular **genres** are from the plot? Do you see anything surprising in this plot?"
   ]
  },
  {
   "cell_type": "code",
   "execution_count": 20,
   "id": "a2039e28",
   "metadata": {},
   "outputs": [],
   "source": [
    "# Food for thought is an entirely OPTIONAL exercise\n",
    "# you may leave your thoughts here as a comment if you wish to\n"
   ]
  },
  {
   "cell_type": "markdown",
   "id": "df5fc48e",
   "metadata": {
    "deletable": false,
    "editable": false
   },
   "source": [
    "**Question 5:** **Plot** the **number** of movies **directed** by *Kathryn Bigelow* in each *genre* as a **bar graph**.\n",
    "\n",
    "You **must** only include those `genres` in which *Kathryn Bigelow* has directed **at least** one movie, in your plot.\n",
    "\n",
    "You **must** first compute a **dictionary** which maps each **genre** to the **number** of movies in that **genre** directed by *Kathryn Bigelow*.\n",
    "\n",
    "**Hint:** Think about how you can use functions such as `bucketize` on a subset of movies for the category that you are interested in."
   ]
  },
  {
   "cell_type": "code",
   "execution_count": 21,
   "id": "3609ec84",
   "metadata": {
    "tags": []
   },
   "outputs": [
    {
     "data": {
      "text/plain": [
       "{'Drama': 8,\n",
       " 'History': 3,\n",
       " 'Thriller': 4,\n",
       " 'Crime': 5,\n",
       " 'Sci-Fi': 1,\n",
       " 'War': 1,\n",
       " 'Mystery': 1,\n",
       " 'Action': 2,\n",
       " 'Horror': 1}"
      ]
     },
     "execution_count": 21,
     "metadata": {},
     "output_type": "execute_result"
    }
   ],
   "source": [
    "# first compute and store the dictionary in the variable 'kathryn_genres', then display it\n",
    "# do NOT plot just yet\n",
    "kathryn_genres = {}\n",
    "\n",
    "movies_by_kathryn = director_buckets[\"Kathryn Bigelow\"]\n",
    "movies_by_genre = bucketize(movies_by_kathryn, \"genres\")\n",
    "\n",
    "for genre in movies_by_genre:\n",
    "    kathryn_genres[genre] = len(movies_by_genre[genre])\n",
    "    \n",
    "kathryn_genres"
   ]
  },
  {
   "cell_type": "code",
   "execution_count": 22,
   "id": "4c5339e4",
   "metadata": {
    "deletable": false,
    "editable": false
   },
   "outputs": [
    {
     "data": {
      "text/html": [
       "<p><strong><pre style='display: inline;'>q5</pre></strong> passed! ✨</p>"
      ],
      "text/plain": [
       "q5 results: All test cases passed!"
      ]
     },
     "execution_count": 22,
     "metadata": {},
     "output_type": "execute_result"
    }
   ],
   "source": [
    "grader.check(\"q5\")"
   ]
  },
  {
   "cell_type": "markdown",
   "id": "f9028448",
   "metadata": {
    "deletable": false,
    "editable": false
   },
   "source": [
    "Now, **plot** `kathryn_genres` as a **bar graph**.\n",
    "\n",
    "**Important Warning:** `p9_test.py` can only check that the **dictionary** has the correct key/value pairs, but it **cannot** check if your plot appears on the screen, or whether the axes are correctly labelled. The Gradescope autograder will deduct points if your plot is not visible in the **cell below**, or if it is not properly labelled.\n",
    "\n",
    "Your plot should look like this:"
   ]
  },
  {
   "cell_type": "markdown",
   "id": "de674a88",
   "metadata": {},
   "source": [
    "<div><img src=\"attachment:kathryn_genres.png\" width=\"400\"/></div>"
   ]
  },
  {
   "cell_type": "code",
   "execution_count": 23,
   "id": "4ecc2451",
   "metadata": {
    "tags": []
   },
   "outputs": [
    {
     "data": {
      "image/png": "[encoded data removed]",
      "text/plain": [
       "<Figure size 640x480 with 1 Axes>"
      ]
     },
     "metadata": {},
     "output_type": "display_data"
    }
   ],
   "source": [
    "# now plot 'kathryn_genres' with the y-axis labelled 'number of movies'\n",
    "plot_dict(kathryn_genres, \"number of movies\")"
   ]
  },
  {
   "cell_type": "markdown",
   "id": "90af8d3c",
   "metadata": {
    "deletable": false,
    "editable": false
   },
   "source": [
    "**Food for thought:** Can you similarly **plot** the **number** of films directed by your favorite director or starring your favorite cast member in each **genre**?"
   ]
  },
  {
   "cell_type": "code",
   "execution_count": 24,
   "id": "12073732",
   "metadata": {},
   "outputs": [],
   "source": [
    "# Food for thought is an entirely OPTIONAL exercise\n",
    "# you may leave your thoughts here as a comment if you wish to\n"
   ]
  },
  {
   "cell_type": "markdown",
   "id": "8bc5e4da",
   "metadata": {
    "deletable": false,
    "editable": false
   },
   "source": [
    "**Question 6:** **Plot** the **number** of **Sci-Fi** movies released in each *decade* as a **bar graph**.\n",
    "\n",
    "You **must** first compute a **dictionary** which maps each **decade** to the **number** of movies in released in that **decade**. This dictionary should look like this:\n",
    "\n",
    "```python\n",
    "{'2011 to 2020': 2134,\n",
    " '1971 to 1980': 377,\n",
    " '1981 to 1990': 612,\n",
    " '1991 to 2000': 623,\n",
    " '2021 to 2030': 396,\n",
    " '2001 to 2010': 931,\n",
    " '1951 to 1960': 242,\n",
    " '1961 to 1970': 320,\n",
    " '1931 to 1940': 52,\n",
    " '1941 to 1950': 37,\n",
    " '1921 to 1930': 19,\n",
    " '1911 to 1920': 21}\n",
    "```\n",
    "\n",
    "**Hint:** You should use `year_to_decade` function to get the decade for a movie's year"
   ]
  },
  {
   "cell_type": "code",
   "execution_count": 25,
   "id": "8124d72f",
   "metadata": {
    "tags": []
   },
   "outputs": [
    {
     "data": {
      "text/plain": [
       "{'2011 to 2020': 2134,\n",
       " '1971 to 1980': 377,\n",
       " '1981 to 1990': 612,\n",
       " '1991 to 2000': 623,\n",
       " '2021 to 2030': 396,\n",
       " '2001 to 2010': 931,\n",
       " '1951 to 1960': 242,\n",
       " '1961 to 1970': 320,\n",
       " '1931 to 1940': 52,\n",
       " '1941 to 1950': 37,\n",
       " '1921 to 1930': 19,\n",
       " '1911 to 1920': 21}"
      ]
     },
     "execution_count": 25,
     "metadata": {},
     "output_type": "execute_result"
    }
   ],
   "source": [
    "# first compute and store the dictionary in the variable 'sci_fi_decade_mapping', then display it\n",
    "# do NOT plot just yet\n",
    "sci_fi_decade_mapping = {}\n",
    "\n",
    "scifi_movies = genre_buckets[\"Sci-Fi\"]\n",
    "\n",
    "movies_by_decade = {}\n",
    "for movie in scifi_movies:\n",
    "    decade = year_to_decade(movie[\"year\"])\n",
    "    if decade not in movies_by_decade:\n",
    "        movies_by_decade[decade] = []\n",
    "    movies_by_decade[decade].append(movie)\n",
    "\n",
    "movies_by_decade        \n",
    "        \n",
    "for decade in movies_by_decade:\n",
    "    sci_fi_decade_mapping[decade] = len(movies_by_decade[decade])\n",
    "    \n",
    "sci_fi_decade_mapping"
   ]
  },
  {
   "cell_type": "code",
   "execution_count": 26,
   "id": "8214651f",
   "metadata": {
    "deletable": false,
    "editable": false
   },
   "outputs": [
    {
     "data": {
      "text/html": [
       "<p><strong><pre style='display: inline;'>q6</pre></strong> passed! 🌟</p>"
      ],
      "text/plain": [
       "q6 results: All test cases passed!"
      ]
     },
     "execution_count": 26,
     "metadata": {},
     "output_type": "execute_result"
    }
   ],
   "source": [
    "grader.check(\"q6\")"
   ]
  },
  {
   "cell_type": "markdown",
   "id": "fed36cc5",
   "metadata": {
    "deletable": false,
    "editable": false
   },
   "source": [
    "Now, **plot** `sci_fi_decade_mapping` as a **bar graph**.\n",
    "\n",
    "**Important Warning:** `p9_test.py` can only check that the **dictionary** has the correct key/value pairs, but it **cannot** check if your plot appears on the screen, or whether the axes are correctly labelled. The Gradescope autograder will deduct points if your plot is not visible in the **cell below**, or if it is not properly labelled.\n",
    "\n",
    "Your plot should look like this:"
   ]
  },
  {
   "cell_type": "markdown",
   "id": "71d922ed",
   "metadata": {},
   "source": [
    "<div><img src=\"attachment:sci_fi_decade_mapping.png\" width=\"400\"/></div>"
   ]
  },
  {
   "cell_type": "code",
   "execution_count": 27,
   "id": "a6bb23cd",
   "metadata": {
    "tags": []
   },
   "outputs": [
    {
     "data": {
      "image/png": "[encoded data removed]",
      "text/plain": [
       "<Figure size 640x480 with 1 Axes>"
      ]
     },
     "metadata": {},
     "output_type": "display_data"
    }
   ],
   "source": [
    "# now plot 'sci_fi_decade_mapping' with the y-axis labelled 'Sci-Fi movies released'\n",
    "plot_dict(sci_fi_decade_mapping, \"Sci-Fi movies released\")"
   ]
  },
  {
   "cell_type": "markdown",
   "id": "b4e0c8d4",
   "metadata": {
    "deletable": false,
    "editable": false
   },
   "source": [
    "**Food for thought:** Can you explain the shape of this plot? Why do you think the number of Sci-Fi movies increased so rapidly over the last decade? If you want, you could compare this plot against plots of other genres (such as `Western` or `Horror`)."
   ]
  },
  {
   "cell_type": "code",
   "execution_count": 28,
   "id": "22b94486",
   "metadata": {},
   "outputs": [],
   "source": [
    "# Food for thought is an entirely OPTIONAL exercise\n",
    "# you may leave your thoughts here as a comment if you wish to\n"
   ]
  },
  {
   "cell_type": "markdown",
   "id": "dbade4fc",
   "metadata": {
    "deletable": false,
    "editable": false
   },
   "source": [
    "**Question 7:** **Plot** the **median** `rating` of movies in each `genre` directed by *Francis Ford Coppola* as a **bar graph**.\n",
    "\n",
    "You **must** first compute a **dictionary** which maps each **genre** of movies directed by *Francis Ford Coppola* to the **median** `rating` of all movies in that **genre**. Note that your dictionary **must not** contain any genres in which *Francis Ford Coppola* has not directed any movie."
   ]
  },
  {
   "cell_type": "code",
   "execution_count": 29,
   "id": "33bf9094",
   "metadata": {
    "tags": []
   },
   "outputs": [
    {
     "data": {
      "text/plain": [
       "{'Drama': 6.85,\n",
       " 'Fantasy': 6.1,\n",
       " 'Mystery': 7.8,\n",
       " 'Comedy': 5.949999999999999,\n",
       " 'Romance': 6.4,\n",
       " 'Crime': 7.2,\n",
       " 'Horror': 5.0,\n",
       " 'Sci-Fi': 4.6,\n",
       " 'Thriller': 5.7,\n",
       " 'Musical': 6.3,\n",
       " 'Music': 6.5,\n",
       " 'War': 7.45,\n",
       " 'Western': 3.0,\n",
       " 'Biography': 6.9,\n",
       " 'Adventure': 4.4,\n",
       " 'Family': 6.1}"
      ]
     },
     "execution_count": 29,
     "metadata": {},
     "output_type": "execute_result"
    }
   ],
   "source": [
    "# first compute and store the dictionary in the variable 'coppola_median_genres', then display it\n",
    "# do NOT plot just yet\n",
    "coppola_median_genres = {}\n",
    "\n",
    "movies_by_francis = director_buckets[\"Francis Ford Coppola\"]\n",
    "\n",
    "movies_by_genre = bucketize(movies_by_francis, \"genres\")\n",
    "\n",
    "for genre, movies in movies_by_genre.items():\n",
    "    for movie in movies:\n",
    "        if genre not in coppola_median_genres:\n",
    "            coppola_median_genres[genre] = []\n",
    "        coppola_median_genres[genre].append(movie[\"rating\"])\n",
    "        \n",
    "for genre in coppola_median_genres:\n",
    "    coppola_median_genres[genre] = median(coppola_median_genres[genre])\n",
    "        \n",
    "coppola_median_genres"
   ]
  },
  {
   "cell_type": "code",
   "execution_count": 30,
   "id": "882884a2",
   "metadata": {
    "deletable": false,
    "editable": false
   },
   "outputs": [
    {
     "data": {
      "text/html": [
       "<p><strong><pre style='display: inline;'>q7</pre></strong> passed! 🍀</p>"
      ],
      "text/plain": [
       "q7 results: All test cases passed!"
      ]
     },
     "execution_count": 30,
     "metadata": {},
     "output_type": "execute_result"
    }
   ],
   "source": [
    "grader.check(\"q7\")"
   ]
  },
  {
   "cell_type": "markdown",
   "id": "cb07157c",
   "metadata": {
    "deletable": false,
    "editable": false
   },
   "source": [
    "Now, **plot** `coppola_median_genres` as a **bar graph**.\n",
    "\n",
    "**Important Warning:** `p9_test.py` can only check that the **dictionary** has the correct key/value pairs, but it **cannot** check if your plot appears on the screen, or whether the axes are correctly labelled. The Gradescope autograder will deduct points if your plot is not visible in the **cell below**, or if it is not properly labelled.\n",
    "\n",
    "Your plot should look like this:"
   ]
  },
  {
   "cell_type": "markdown",
   "id": "809982ae",
   "metadata": {},
   "source": [
    "<div><img src=\"attachment:coppola_median_genres.png\" width=\"400\"/></div>"
   ]
  },
  {
   "cell_type": "code",
   "execution_count": 31,
   "id": "80299feb",
   "metadata": {
    "tags": []
   },
   "outputs": [
    {
     "data": {
      "image/png": "[encoded data removed]",
      "text/plain": [
       "<Figure size 640x480 with 1 Axes>"
      ]
     },
     "metadata": {},
     "output_type": "display_data"
    }
   ],
   "source": [
    "# now plot 'coppola_median_genres' with the y-axis labelled 'median rating'\n",
    "plot_dict(coppola_median_genres, \"median rating\")"
   ]
  },
  {
   "cell_type": "markdown",
   "id": "3307c2a1",
   "metadata": {
    "deletable": false,
    "editable": false
   },
   "source": [
    "**Food for thought:** *Francis Ford Coppola* has directed many critically acclaimed movies such as *The Godfather*, *Apocalypse Now*, and *The Conversation*. Nevertheless, median ratings of his work in the *Adventure*, *Sci-Fi*, *Horror*, and *Western* genres are surprisingly lackluster. Can you explain this inconsistency?\n",
    "\n",
    "Hint: Take a look at the years of release of the films in these genres. "
   ]
  },
  {
   "cell_type": "code",
   "execution_count": 32,
   "id": "58aa9747",
   "metadata": {},
   "outputs": [],
   "source": [
    "# Food for thought is an entirely OPTIONAL exercise\n",
    "# you may leave your thoughts here as a comment if you wish to\n"
   ]
  },
  {
   "cell_type": "markdown",
   "id": "a9de715d",
   "metadata": {
    "deletable": false,
    "editable": false
   },
   "source": [
    "The visualization in Question 7 immediately tells us that the **median** *War* movie directed by *Francis Ford Coppola* is rated higher than the **median** *Western* movie. However, it is a little hard to tell how the **median** *Romance* movie fares against the **median** *Musical* movie. In order to compare the `genres`, it would be useful to **sort** the `genres` by their **median** `rating`.\n",
    "\n",
    "Refer [Gurmail's](https://canvas.wisc.edu/courses/343490/files/folder/Gurmail_Lecture_Updated/23_Function_References) or [Mike's](https://canvas.wisc.edu/courses/343490/files/folder/Mikes_Lecture_Notes/lec23_function_references) lecture notes on using function references to sort a collection by value(s) related to that collection's elements."
   ]
  },
  {
   "cell_type": "markdown",
   "id": "415d79d3",
   "metadata": {
    "deletable": false,
    "editable": false
   },
   "source": [
    "**Question 8:** Produce a **list** of `genres` of films directed by *Francis Ford Coppola* sorted in **decreasing order** of their **median** `rating`."
   ]
  },
  {
   "cell_type": "code",
   "execution_count": 33,
   "id": "82c435c3",
   "metadata": {
    "tags": []
   },
   "outputs": [
    {
     "data": {
      "text/plain": [
       "['Mystery',\n",
       " 'War',\n",
       " 'Crime',\n",
       " 'Biography',\n",
       " 'Drama',\n",
       " 'Music',\n",
       " 'Romance',\n",
       " 'Musical',\n",
       " 'Fantasy',\n",
       " 'Family',\n",
       " 'Comedy',\n",
       " 'Thriller',\n",
       " 'Horror',\n",
       " 'Sci-Fi',\n",
       " 'Adventure',\n",
       " 'Western']"
      ]
     },
     "execution_count": 33,
     "metadata": {},
     "output_type": "execute_result"
    }
   ],
   "source": [
    "# compute and store the answer in the variable 'coppola_genres_desc', then display it\n",
    "def extract_rating(genre):  # function must have exactly one parameter\n",
    "    return coppola_median_genres[genre]\n",
    "\n",
    "coppola_genres_desc = sorted(coppola_median_genres, key = extract_rating, reverse = True)\n",
    "\n",
    "coppola_genres_desc"
   ]
  },
  {
   "cell_type": "code",
   "execution_count": 34,
   "id": "790b3c32",
   "metadata": {
    "deletable": false,
    "editable": false
   },
   "outputs": [
    {
     "data": {
      "text/html": [
       "<p><strong><pre style='display: inline;'>q8</pre></strong> passed! 🎉</p>"
      ],
      "text/plain": [
       "q8 results: All test cases passed!"
      ]
     },
     "execution_count": 34,
     "metadata": {},
     "output_type": "execute_result"
    }
   ],
   "source": [
    "grader.check(\"q8\")"
   ]
  },
  {
   "cell_type": "markdown",
   "id": "bfd5dfda",
   "metadata": {
    "deletable": false,
    "editable": false
   },
   "source": [
    "**Question 9:** Produce a **list** of movies directed by *Martin Scorsese* and starring *Robert De Niro* sorted in **increasing** order of their `year` of release.\n",
    "\n",
    "Your output **must** be a **list** of **dictionaries** of movies having *Martin Scorsese* as one of the `directors`, and *Robert De Niro* as one of the `cast` members, that are **sorted** in **increasing** order of their `year`.\n",
    "\n",
    "**Hint:** Refer to Task 4.2 in Lab-P9 to understand how to sort a collection using the `key` parameter."
   ]
  },
  {
   "cell_type": "code",
   "execution_count": 35,
   "id": "ede2ceb2",
   "metadata": {
    "tags": []
   },
   "outputs": [
    {
     "data": {
      "text/plain": [
       "[{'title': 'Mean Streets',\n",
       "  'year': 1973,\n",
       "  'duration': 112,\n",
       "  'genres': ['Crime', 'Drama', 'Thriller'],\n",
       "  'rating': 7.2,\n",
       "  'directors': ['Martin Scorsese'],\n",
       "  'cast': ['Robert De Niro', 'Harvey Keitel', 'David Proval', 'Amy Robinson']},\n",
       " {'title': 'Taxi Driver',\n",
       "  'year': 1976,\n",
       "  'duration': 114,\n",
       "  'genres': ['Crime', 'Drama'],\n",
       "  'rating': 8.2,\n",
       "  'directors': ['Martin Scorsese'],\n",
       "  'cast': ['Robert De Niro',\n",
       "   'Jodie Foster',\n",
       "   'Cybill Shepherd',\n",
       "   'Albert Brooks']},\n",
       " {'title': 'New York, New York',\n",
       "  'year': 1977,\n",
       "  'duration': 155,\n",
       "  'genres': ['Drama', 'Music', 'Musical'],\n",
       "  'rating': 6.6,\n",
       "  'directors': ['Martin Scorsese'],\n",
       "  'cast': ['Liza Minnelli',\n",
       "   'Robert De Niro',\n",
       "   'Lionel Stander',\n",
       "   'Barry Primus']},\n",
       " {'title': 'Raging Bull',\n",
       "  'year': 1980,\n",
       "  'duration': 129,\n",
       "  'genres': ['Biography', 'Drama', 'Sport'],\n",
       "  'rating': 8.2,\n",
       "  'directors': ['Martin Scorsese'],\n",
       "  'cast': ['Robert De Niro', 'Cathy Moriarty', 'Joe Pesci', 'Frank Vincent']},\n",
       " {'title': 'The King of Comedy',\n",
       "  'year': 1982,\n",
       "  'duration': 109,\n",
       "  'genres': ['Comedy', 'Crime', 'Drama'],\n",
       "  'rating': 7.8,\n",
       "  'directors': ['Martin Scorsese'],\n",
       "  'cast': ['Robert De Niro',\n",
       "   'Jerry Lewis',\n",
       "   'Diahnne Abbott',\n",
       "   'Sandra Bernhard']},\n",
       " {'title': 'Goodfellas',\n",
       "  'year': 1990,\n",
       "  'duration': 145,\n",
       "  'genres': ['Biography', 'Crime', 'Drama'],\n",
       "  'rating': 8.7,\n",
       "  'directors': ['Martin Scorsese'],\n",
       "  'cast': ['Robert De Niro', 'Ray Liotta', 'Joe Pesci', 'Lorraine Bracco']},\n",
       " {'title': 'Cape Fear',\n",
       "  'year': 1991,\n",
       "  'duration': 128,\n",
       "  'genres': ['Crime', 'Thriller'],\n",
       "  'rating': 7.3,\n",
       "  'directors': ['Martin Scorsese'],\n",
       "  'cast': ['Robert De Niro', 'Nick Nolte', 'Jessica Lange', 'Juliette Lewis']},\n",
       " {'title': 'Casino',\n",
       "  'year': 1995,\n",
       "  'duration': 178,\n",
       "  'genres': ['Crime', 'Drama'],\n",
       "  'rating': 8.2,\n",
       "  'directors': ['Martin Scorsese'],\n",
       "  'cast': ['Robert De Niro', 'Sharon Stone', 'Joe Pesci', 'James Woods']},\n",
       " {'title': 'The Irishman',\n",
       "  'year': 2019,\n",
       "  'duration': 209,\n",
       "  'genres': ['Biography', 'Crime', 'Drama'],\n",
       "  'rating': 7.8,\n",
       "  'directors': ['Martin Scorsese'],\n",
       "  'cast': ['Robert De Niro', 'Al Pacino', 'Joe Pesci', 'Harvey Keitel']}]"
      ]
     },
     "execution_count": 35,
     "metadata": {},
     "output_type": "execute_result"
    }
   ],
   "source": [
    "    # compute and store the answer in the variable 'scorsese_de_niro', then display it\n",
    "movies_by_martin = director_buckets[\"Martin Scorsese\"]\n",
    "\n",
    "movies_by_martin_bucket = bucketize(movies_by_martin, \"cast\")\n",
    "\n",
    "movies_by_martin_and_robert = movies_by_martin_bucket[\"Robert De Niro\"]\n",
    "\n",
    "movies_by_martin_and_robert\n",
    "\n",
    "def extract_year(movie):  # function must have exactly one parameter\n",
    "        return movie[\"year\"]\n",
    "\n",
    "scorsese_de_niro = sorted(movies_by_martin_and_robert, key = extract_year)\n",
    "\n",
    "scorsese_de_niro"
   ]
  },
  {
   "cell_type": "code",
   "execution_count": 36,
   "id": "043c57c2",
   "metadata": {
    "deletable": false,
    "editable": false
   },
   "outputs": [
    {
     "data": {
      "text/html": [
       "<p><strong><pre style='display: inline;'>q9</pre></strong> passed! 🎉</p>"
      ],
      "text/plain": [
       "q9 results: All test cases passed!"
      ]
     },
     "execution_count": 36,
     "metadata": {},
     "output_type": "execute_result"
    }
   ],
   "source": [
    "grader.check(\"q9\")"
   ]
  },
  {
   "cell_type": "markdown",
   "id": "b439d11f",
   "metadata": {
    "deletable": false,
    "editable": false
   },
   "source": [
    "**Food for thought:** Can you think of other famous director-actor combinations? Can you find a combination with more movies than Scorsese and De Niro?"
   ]
  },
  {
   "cell_type": "code",
   "execution_count": 37,
   "id": "458d98f6",
   "metadata": {},
   "outputs": [],
   "source": [
    "# Food for thought is an entirely OPTIONAL exercise\n",
    "# you may leave your thoughts here as a comment if you wish to\n"
   ]
  },
  {
   "cell_type": "markdown",
   "id": "2cfb6348",
   "metadata": {
    "deletable": false,
    "editable": false
   },
   "source": [
    "We will now attempt to answer a more interesting question. Let's try to find the directors who are the **most** *versatile*. We will say that a director is **versatile** if they have directed movies across lots of different genres, and also have a high median rating across all genres."
   ]
  },
  {
   "cell_type": "markdown",
   "id": "32ae2b58",
   "metadata": {
    "deletable": false,
    "editable": false
   },
   "source": [
    "**Question 10:** Produce a **list** of *versatile* `directors` who have directed movies across **at least** *10* different `genres`, and have a **median** `rating` **greater than** *6.5* in **each** of their `genres`.\n",
    "\n",
    "Your final product **must** be a **list** of **strings** of the names of the `directors`.\n",
    "\n",
    "**Hints:** \n",
    "\n",
    "1. You should consider using one of the data structures you defined earlier to get all the directors and their movies.\n",
    "2. If you use the `bucketize` function cleverly, you can easily organize the movies of each director by genres.\n",
    "3. Refer to Question 7 to figure out how to find out each genre's median rating for a director's movies"
   ]
  },
  {
   "cell_type": "code",
   "execution_count": 38,
   "id": "dbfc841d",
   "metadata": {
    "tags": []
   },
   "outputs": [
    {
     "data": {
      "text/plain": [
       "['Juan Bustillo Oro',\n",
       " 'Martin Scorsese',\n",
       " 'Martin Fric',\n",
       " 'Sandip Ray',\n",
       " 'Sam Mendes',\n",
       " 'David Lean',\n",
       " 'Luchino Visconti',\n",
       " 'King Hu',\n",
       " 'Masaki Kobayashi',\n",
       " 'Sam Peckinpah',\n",
       " 'Joseph L. Mankiewicz',\n",
       " 'Satsuo Yamamoto',\n",
       " 'Akira Kurosawa',\n",
       " 'Aditya Sarpotdar',\n",
       " 'Quentin Tarantino',\n",
       " 'Leonardo Favio',\n",
       " 'Joel Coen',\n",
       " 'François Truffaut',\n",
       " 'Francis Lawrence',\n",
       " 'Emeric Pressburger',\n",
       " 'Goran Markovic',\n",
       " 'Vytautas Zalakevicius',\n",
       " 'Marc Forster',\n",
       " 'Isao Takahata',\n",
       " 'Satyajit Ray',\n",
       " 'Aziz M. Osman',\n",
       " 'Carlos Enrique Taboada',\n",
       " 'Danny Boyle',\n",
       " 'I. Kolyada',\n",
       " 'Prince Oak Oakleyski',\n",
       " 'Paul Greengrass',\n",
       " 'T.S. Nagabharana']"
      ]
     },
     "execution_count": 38,
     "metadata": {},
     "output_type": "execute_result"
    }
   ],
   "source": [
    "# compute and store the answer in the variable 'versatile_directors', then display it\n",
    "versatile_directors = []\n",
    "for director in director_buckets:\n",
    "    genre_buckets_by_director = bucketize(director_buckets[director], \"genres\")\n",
    "    if len(genre_buckets_by_director) >= 10:\n",
    "        rating_by_genre = {}\n",
    "        ratings_above_threshold = True\n",
    "        for genre, movies in genre_buckets_by_director.items():\n",
    "            for movie in movies:\n",
    "                if genre not in rating_by_genre:\n",
    "                    rating_by_genre[genre] = []\n",
    "                rating_by_genre[genre].append(movie[\"rating\"])      \n",
    "        for genre in rating_by_genre:\n",
    "            rating_by_genre[genre] = median(rating_by_genre[genre])\n",
    "        for genre in rating_by_genre:\n",
    "            if rating_by_genre[genre] <= 6.5:\n",
    "                ratings_above_threshold = False\n",
    "                break\n",
    "        if ratings_above_threshold:\n",
    "            versatile_directors.append(director)\n",
    "            \n",
    "versatile_directors"
   ]
  },
  {
   "cell_type": "code",
   "execution_count": 39,
   "id": "12252c56",
   "metadata": {
    "deletable": false,
    "editable": false
   },
   "outputs": [
    {
     "data": {
      "text/html": [
       "<p><strong><pre style='display: inline;'>q10</pre></strong> passed! ✨</p>"
      ],
      "text/plain": [
       "q10 results: All test cases passed!"
      ]
     },
     "execution_count": 39,
     "metadata": {},
     "output_type": "execute_result"
    }
   ],
   "source": [
    "grader.check(\"q10\")"
   ]
  },
  {
   "cell_type": "markdown",
   "id": "5f511d92",
   "metadata": {
    "deletable": false,
    "editable": false
   },
   "source": [
    "**Food for thought:** Do you recognize any names from this list? Are you surprised by any names in this list? You could try changing the criteria used for determining the most versatile director, to come up with your own list of directors. You could also try to come up with a similar list of versatile cast members."
   ]
  },
  {
   "cell_type": "code",
   "execution_count": 40,
   "id": "fafb1b5b",
   "metadata": {},
   "outputs": [],
   "source": [
    "# Food for thought is an entirely OPTIONAL exercise\n",
    "# you may leave your thoughts here as a comment if you wish to\n"
   ]
  },
  {
   "cell_type": "markdown",
   "id": "058b6c3c",
   "metadata": {
    "deletable": false,
    "editable": false
   },
   "source": [
    "## Submission\n",
    "Make sure you have run all cells in your notebook in order before running the following cells, so that all images/graphs appear in the output. The following cells will generate a zip file for you to submit.\n",
    "\n",
    "**SUBMISSION INSTRUCTIONS**:\n",
    "1. **Upload** the zipfile to Gradescope.\n",
    "2. Check **Gradescope otter** results as soon as the auto-grader execution gets completed. Don't worry about the score showing up as -/100.0. You only need to check that the test cases passed."
   ]
  },
  {
   "cell_type": "code",
   "execution_count": null,
   "id": "6d1d1062",
   "metadata": {
    "cell_type": "code",
    "deletable": false,
    "editable": false
   },
   "outputs": [],
   "source": [
    "from IPython.display import display, Javascript\n",
    "display(Javascript('IPython.notebook.save_checkpoint();'))"
   ]
  },
  {
   "cell_type": "code",
   "execution_count": null,
   "id": "5e16c087",
   "metadata": {
    "cell_type": "code",
    "deletable": false,
    "editable": false
   },
   "outputs": [],
   "source": [
    "!jupytext --to py p9.ipynb"
   ]
  },
  {
   "cell_type": "code",
   "execution_count": null,
   "id": "6adf65fc",
   "metadata": {
    "cell_type": "code",
    "deletable": false,
    "editable": false
   },
   "outputs": [],
   "source": [
    "grader.export(pdf=False, run_tests=True, files=[py_filename])"
   ]
  },
  {
   "cell_type": "markdown",
   "id": "b5dce0be",
   "metadata": {
    "deletable": false,
    "editable": false
   },
   "source": [
    " "
   ]
  }
 ],
 "metadata": {
  "kernelspec": {
   "display_name": "Python 3 (ipykernel)",
   "language": "python",
   "name": "python3"
  },
  "language_info": {
   "codemirror_mode": {
    "name": "ipython",
    "version": 3
   },
   "file_extension": ".py",
   "mimetype": "text/x-python",
   "name": "python",
   "nbconvert_exporter": "python",
   "pygments_lexer": "ipython3",
   "version": "3.9.13"
  },
  "otter": {
   "OK_FORMAT": true,
   "tests": {
    "q1": {
     "name": "q1",
     "points": 5,
     "suites": [
      {
       "cases": [
        {
         "code": ">>> p9_test.check(\"q1\", median_sw_rating)\nTrue",
         "hidden": false,
         "locked": false
        }
       ],
       "scored": true,
       "setup": "",
       "teardown": "",
       "type": "doctest"
      }
     ]
    },
    "q10": {
     "name": "q10",
     "points": 5,
     "suites": [
      {
       "cases": [
        {
         "code": ">>> p9_test.check(\"q10\", versatile_directors)\nTrue",
         "hidden": false,
         "locked": false
        }
       ],
       "scored": true,
       "setup": "",
       "teardown": "",
       "type": "doctest"
      }
     ]
    },
    "q2": {
     "name": "q2",
     "points": 5,
     "suites": [
      {
       "cases": [
        {
         "code": ">>> p9_test.check(\"q2\", highest_rated_spider_man_movies)\nTrue",
         "hidden": false,
         "locked": false
        }
       ],
       "scored": true,
       "setup": "",
       "teardown": "",
       "type": "doctest"
      }
     ]
    },
    "q3": {
     "name": "q3",
     "points": 5,
     "suites": [
      {
       "cases": [
        {
         "code": ">>> p9_test.check(\"q3\", yeoh_movies)\nTrue",
         "hidden": false,
         "locked": false
        }
       ],
       "scored": true,
       "setup": "",
       "teardown": "",
       "type": "doctest"
      }
     ]
    },
    "q4": {
     "name": "q4",
     "points": 5,
     "suites": [
      {
       "cases": [
        {
         "code": ">>> p9_test.check(\"q4\", genre_num)\nTrue",
         "hidden": false,
         "locked": false
        }
       ],
       "scored": true,
       "setup": "",
       "teardown": "",
       "type": "doctest"
      }
     ]
    },
    "q5": {
     "name": "q5",
     "points": 5,
     "suites": [
      {
       "cases": [
        {
         "code": ">>> p9_test.check(\"q5\", kathryn_genres)\nTrue",
         "hidden": false,
         "locked": false
        }
       ],
       "scored": true,
       "setup": "",
       "teardown": "",
       "type": "doctest"
      }
     ]
    },
    "q6": {
     "name": "q6",
     "points": 5,
     "suites": [
      {
       "cases": [
        {
         "code": ">>> p9_test.check(\"q6\", sci_fi_decade_mapping)\nTrue",
         "hidden": false,
         "locked": false
        }
       ],
       "scored": true,
       "setup": "",
       "teardown": "",
       "type": "doctest"
      }
     ]
    },
    "q7": {
     "name": "q7",
     "points": 5,
     "suites": [
      {
       "cases": [
        {
         "code": ">>> p9_test.check(\"q7\", coppola_median_genres)\nTrue",
         "hidden": false,
         "locked": false
        }
       ],
       "scored": true,
       "setup": "",
       "teardown": "",
       "type": "doctest"
      }
     ]
    },
    "q8": {
     "name": "q8",
     "points": 5,
     "suites": [
      {
       "cases": [
        {
         "code": ">>> p9_test.check(\"q8\", coppola_genres_desc)\nTrue",
         "hidden": false,
         "locked": false
        }
       ],
       "scored": true,
       "setup": "",
       "teardown": "",
       "type": "doctest"
      }
     ]
    },
    "q9": {
     "name": "q9",
     "points": 5,
     "suites": [
      {
       "cases": [
        {
         "code": ">>> p9_test.check(\"q9\", scorsese_de_niro)\nTrue",
         "hidden": false,
         "locked": false
        }
       ],
       "scored": true,
       "setup": "",
       "teardown": "",
       "type": "doctest"
      }
     ]
    }
   }
  }
 },
 "nbformat": 4,
 "nbformat_minor": 5
}
